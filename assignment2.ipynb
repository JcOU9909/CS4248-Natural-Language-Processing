{
 "cells": [
  {
   "cell_type": "code",
   "execution_count": 261,
   "id": "9ca88594-46c7-4d2f-b09e-6e9f76958cbf",
   "metadata": {},
   "outputs": [],
   "source": [
    "import numpy as np\n",
    "import pandas as pd\n",
    "import collections\n",
    "import seaborn as sns\n",
    "import tensorflow as tf\n",
    "from tensorflow import keras\n",
    "from tensorflow.keras import layers\n",
    "\n",
    "import nltk\n",
    "from nltk.tokenize import word_tokenize\n",
    "from nltk.stem import WordNetLemmatizer\n",
    "from nltk.probability import FreqDist\n",
    "from nltk.sentiment.vader import SentimentIntensityAnalyzer\n",
    "\n",
    "import spacy\n",
    "from spacy import displacy\n",
    "from collections import Counter\n",
    "\n",
    "from imblearn.over_sampling import SMOTE\n",
    "from sklearn.naive_bayes import GaussianNB, MultinomialNB\n",
    "from sklearn.preprocessing import OneHotEncoder, MinMaxScaler\n",
    "from sklearn.linear_model import LogisticRegression\n",
    "from sklearn.model_selection import train_test_split\n",
    "from sklearn.feature_extraction.text import TfidfVectorizer, CountVectorizer\n",
    "from sklearn.metrics import f1_score, classification_report, confusion_matrix"
   ]
  },
  {
   "cell_type": "code",
   "execution_count": 2,
   "id": "ceb07e46-4d3e-4d85-87fe-fc10f85ad5c9",
   "metadata": {},
   "outputs": [],
   "source": [
    "# TODO: Replace with your Student Number\n",
    "_STUDENT_NUM = 'A0251445J'"
   ]
  },
  {
   "cell_type": "code",
   "execution_count": 3,
   "id": "bdcc1732-0032-4a8e-a951-c93043202f08",
   "metadata": {},
   "outputs": [],
   "source": [
    "def lemmetize_all(X):\n",
    "    \"\"\" TODO: preprocess data\"\"\"\n",
    "    X_lemmetize = []\n",
    "    wnl = WordNetLemmatizer()\n",
    "    for sentence in X:\n",
    "        tmp = []\n",
    "        for word, tag in nltk.pos_tag(word_tokenize(sentence)):\n",
    "            if tag.startswith('NN'):\n",
    "                tmp.append(wnl.lemmatize(word, pos='n'))\n",
    "            elif tag.startswith('VB'):\n",
    "                tmp.append(wnl.lemmatize(word, pos='v'))\n",
    "            elif tag.startswith('JJ'):\n",
    "                tmp.append(wnl.lemmatize(word, pos='a'))\n",
    "            elif tag.startswith('R'):\n",
    "                tmp.append(wnl.lemmatize(word, pos='r'))\n",
    "            else:\n",
    "                tmp.append(word)\n",
    "            \n",
    "        X_lemmetize.append(' '.join(tmp))\n",
    "        \n",
    "    return X_lemmetize"
   ]
  },
  {
   "cell_type": "code",
   "execution_count": 4,
   "id": "52a3961d-ec53-41ca-81aa-5189ae4d0a43",
   "metadata": {},
   "outputs": [],
   "source": [
    "def add_sentence_length(X):\n",
    "    return np.array([len(sentence.split()) for sentence in X]).reshape((-1, 1))"
   ]
  },
  {
   "cell_type": "code",
   "execution_count": 5,
   "id": "a85d1e89-a9cc-48b9-b3b9-847ecdbf86b8",
   "metadata": {},
   "outputs": [],
   "source": [
    "def add_polarity(X):\n",
    "    sid = SentimentIntensityAnalyzer()\n",
    "    polarity = []\n",
    "    for sentence in X:\n",
    "        ss = sid.polarity_scores(sentence)\n",
    "        polarity.append(list(ss.values()))\n",
    "    \n",
    "    return np.array(polarity)"
   ]
  },
  {
   "cell_type": "code",
   "execution_count": 6,
   "id": "5cfb5997-737c-44ff-9070-c15d43fcc796",
   "metadata": {},
   "outputs": [],
   "source": [
    "def add_num_count(X):\n",
    "    num_count = []\n",
    "    for sentence in X:\n",
    "        count = 0\n",
    "        for _, tag in nltk.pos_tag(nltk.word_tokenize(sentence)):\n",
    "            if tag == 'CD':\n",
    "                count += 1\n",
    "        num_count.append(count)\n",
    "\n",
    "    return np.array(num_count).reshape(-1, 1)"
   ]
  },
  {
   "cell_type": "code",
   "execution_count": 7,
   "id": "d3de3384",
   "metadata": {},
   "outputs": [],
   "source": [
    "def extract_named_entities_by_types(X_train, X_test):\n",
    "    count = []\n",
    "    nlp = spacy.load('en_core_web_sm')\n",
    "    for sentence in X_train:\n",
    "        labels = [x.label_ for x in nlp(sentence).ents]\n",
    "        count.append(Counter(labels))\n",
    "    for sentence in X_test:\n",
    "        labels = [x.label_ for x in nlp(sentence).ents]\n",
    "        count.append(Counter(labels))\n",
    "\n",
    "    return pd.DataFrame(count).fillna(0)"
   ]
  },
  {
   "cell_type": "code",
   "execution_count": 168,
   "id": "63acd673",
   "metadata": {},
   "outputs": [],
   "source": [
    "def most_common_by_type(df, threshold = 40):\n",
    "    common_list = []\n",
    "    for label in df['Verdict'].unique():\n",
    "        tmp = ' '.join(df.loc[df['Verdict'] == label, 'Text'].values)\n",
    "        tokens = [token.lower() for token in word_tokenize(tmp) if token.isalpha() and \n",
    "                token.lower() not in nltk.corpus.stopwords.words('english')]\n",
    "        common_list.append(FreqDist(tokens).most_common(threshold))\n",
    "\n",
    "    return common_list"
   ]
  },
  {
   "cell_type": "code",
   "execution_count": 8,
   "id": "8fe24fe0-b25c-4e4c-a369-cb9fbfcc41d8",
   "metadata": {},
   "outputs": [],
   "source": [
    "def train_model(model, X_train, y_train, method = 'nn', need_dev = 'False'):\n",
    "    \"\"\" TODO: train your model based on the training data \"\"\"\n",
    "        \n",
    "    if method == 'nn':\n",
    "        model.compile(optimizer='adam',\n",
    "                  loss='categorical_crossentropy',\n",
    "                  metrics=['accuracy'])\n",
    "        \n",
    "        if need_dev == 'True':\n",
    "            X_train_post, X_dev_post, y_train_post, y_dev_post = train_test_split(\n",
    "                X_train, y_train, test_size=0.2, random_state=42)\n",
    "            history = model.fit(\n",
    "                X_train_post, \n",
    "                y_train_post,\n",
    "                batch_size=512,\n",
    "                epochs=15,\n",
    "                validation_data=(X_dev_post, y_dev_post),\n",
    "            )\n",
    "        else:\n",
    "            history = model.fit(\n",
    "                X_train, \n",
    "                y_train,\n",
    "                batch_size=512,\n",
    "                epochs=15,\n",
    "            )\n",
    "    \n",
    "    return"
   ]
  },
  {
   "cell_type": "code",
   "execution_count": 9,
   "id": "cd4766b3-92b9-4db8-85de-294613757409",
   "metadata": {},
   "outputs": [],
   "source": [
    "def predict(model, X_test, method = 'nn'):\n",
    "    \"\"\" TODO: make your prediction here \"\"\"\n",
    "    if method == 'nn':\n",
    "        y_pred = np.argmax(model.predict(X_test), axis=1) - 1\n",
    "    return y_pred"
   ]
  },
  {
   "cell_type": "code",
   "execution_count": 10,
   "id": "6ab714e9-8796-4644-9c29-24c53645da65",
   "metadata": {},
   "outputs": [],
   "source": [
    "def generate_result(test, y_pred, filename):\n",
    "    \"\"\" generate csv file base on the y_pred \"\"\"\n",
    "    test['Verdict'] = pd.Series(y_pred)\n",
    "    test.drop(columns=['Text'], inplace=True)\n",
    "    test.to_csv(filename, index=False)"
   ]
  },
  {
   "cell_type": "code",
   "execution_count": null,
   "id": "e8bf993c-be7a-425a-958e-2efb0c7ed479",
   "metadata": {},
   "outputs": [],
   "source": [
    "def main():\n",
    "    \"\"\" load train, val, and test data \"\"\"\n",
    "    train = pd.read_csv('train.csv')\n",
    "    X_train = train['Text']\n",
    "    y_train = train['Verdict']\n",
    "    \n",
    "    test = pd.read_csv('test.csv')\n",
    "    X_test = test['Text']\n",
    "    # preprocessing\n",
    "    \n",
    "    \n",
    "    model = None  # TODO: Define your model here\n",
    "    \n",
    "    model = keras.Sequential(\n",
    "    [\n",
    "        layers.Dense(32, activation='relu', input_shape=(X_train_vec.shape[1],)),\n",
    "        layers.Dropout(0.3),\n",
    "        layers.Dense(16, activation='relu'),\n",
    "        layers.Dropout(0.3),\n",
    "        layers.Dense(3, activation='softmax'),\n",
    "    ])\n",
    "\n",
    "    # model.summary()\n",
    "    \n",
    "    train_model(model, X_train, y_train)\n",
    "    \n",
    "#     # test your model\n",
    "#     y_pred = predict(model, X_train)\n",
    "\n",
    "    # Use f1-macro as the metric\n",
    "    score = f1_score(y_train, y_pred, average='macro')\n",
    "    print('score on validation = {}'.format(score))\n",
    "\n",
    "    # generate prediction on test data\n",
    "    y_pred = predict(model, X_test)\n",
    "    \n",
    "#     generate_result(test, y_pred, _STUDENT_NUM + \".csv\")"
   ]
  },
  {
   "cell_type": "code",
   "execution_count": null,
   "id": "2e24267b-fff6-4ea1-847b-4554b49ce49d",
   "metadata": {},
   "outputs": [],
   "source": [
    "# Allow the main class to be invoked if run as a file.\n",
    "if __name__ == \"__main__\":\n",
    "    main()\n"
   ]
  },
  {
   "cell_type": "code",
   "execution_count": 238,
   "id": "93e267b3-a5ac-4250-ac0e-29dccf08281b",
   "metadata": {},
   "outputs": [],
   "source": [
    "train = pd.read_csv('train.csv')\n",
    "X_train = train['Text']\n",
    "y_train = train['Verdict']\n",
    "\n",
    "test = pd.read_csv('test.csv')\n",
    "X_test = test['Text']"
   ]
  },
  {
   "cell_type": "code",
   "execution_count": 217,
   "id": "4b5909bd",
   "metadata": {},
   "outputs": [],
   "source": [
    "# X_train = lemmetize_all(X_train)\n",
    "# X_test = lemmetize_all(X_test)"
   ]
  },
  {
   "cell_type": "code",
   "execution_count": 239,
   "id": "75df46f1-078d-487e-9f1a-6e9210ca599a",
   "metadata": {},
   "outputs": [],
   "source": [
    "vectorizer = TfidfVectorizer().fit(X_train)\n",
    "X_train_vec = vectorizer.transform(X_train).toarray()\n",
    "\n",
    "y_train_dum = pd.get_dummies(y_train)"
   ]
  },
  {
   "cell_type": "code",
   "execution_count": 240,
   "id": "11cb62ef",
   "metadata": {},
   "outputs": [
    {
     "data": {
      "text/plain": [
       "(22501, 11424)"
      ]
     },
     "execution_count": 240,
     "metadata": {},
     "output_type": "execute_result"
    }
   ],
   "source": [
    "X_train_vec.shape"
   ]
  },
  {
   "cell_type": "code",
   "execution_count": 241,
   "id": "8e6ef3f2-3453-4e9d-9575-6f0e537271f5",
   "metadata": {},
   "outputs": [],
   "source": [
    "# Additional features\n",
    "scaler = MinMaxScaler()\n",
    "X_train_vec = np.concatenate((X_train_vec, scaler.fit_transform(add_sentence_length(X_train))), axis=1)"
   ]
  },
  {
   "cell_type": "code",
   "execution_count": 242,
   "id": "c4ce434e",
   "metadata": {},
   "outputs": [],
   "source": [
    "polarity = add_polarity(X_train)\n",
    "X_train_vec = np.concatenate((X_train_vec, polarity), axis=1)"
   ]
  },
  {
   "cell_type": "code",
   "execution_count": 243,
   "id": "8f2caa46",
   "metadata": {},
   "outputs": [],
   "source": [
    "num_count = add_num_count(X_train)\n",
    "X_train_vec = np.concatenate((X_train_vec, num_count), axis=1)"
   ]
  },
  {
   "cell_type": "code",
   "execution_count": 244,
   "id": "7c74e682",
   "metadata": {},
   "outputs": [],
   "source": [
    "data = extract_named_entities_by_types(X_train, X_test)"
   ]
  },
  {
   "cell_type": "code",
   "execution_count": 224,
   "id": "55842b3e",
   "metadata": {},
   "outputs": [
    {
     "data": {
      "text/html": [
       "<div>\n",
       "<style scoped>\n",
       "    .dataframe tbody tr th:only-of-type {\n",
       "        vertical-align: middle;\n",
       "    }\n",
       "\n",
       "    .dataframe tbody tr th {\n",
       "        vertical-align: top;\n",
       "    }\n",
       "\n",
       "    .dataframe thead th {\n",
       "        text-align: right;\n",
       "    }\n",
       "</style>\n",
       "<table border=\"1\" class=\"dataframe\">\n",
       "  <thead>\n",
       "    <tr style=\"text-align: right;\">\n",
       "      <th></th>\n",
       "      <th>PERSON</th>\n",
       "      <th>CARDINAL</th>\n",
       "      <th>NORP</th>\n",
       "      <th>GPE</th>\n",
       "      <th>ORG</th>\n",
       "      <th>DATE</th>\n",
       "      <th>FAC</th>\n",
       "      <th>PERCENT</th>\n",
       "      <th>ORDINAL</th>\n",
       "      <th>MONEY</th>\n",
       "      <th>TIME</th>\n",
       "      <th>LOC</th>\n",
       "      <th>WORK_OF_ART</th>\n",
       "      <th>LAW</th>\n",
       "      <th>EVENT</th>\n",
       "      <th>PRODUCT</th>\n",
       "      <th>QUANTITY</th>\n",
       "      <th>LANGUAGE</th>\n",
       "    </tr>\n",
       "  </thead>\n",
       "  <tbody>\n",
       "    <tr>\n",
       "      <th>0</th>\n",
       "      <td>0.0</td>\n",
       "      <td>0.0</td>\n",
       "      <td>0.0</td>\n",
       "      <td>0.0</td>\n",
       "      <td>0.0</td>\n",
       "      <td>0.0</td>\n",
       "      <td>0.0</td>\n",
       "      <td>0.0</td>\n",
       "      <td>0.0</td>\n",
       "      <td>0.0</td>\n",
       "      <td>0.0</td>\n",
       "      <td>0.0</td>\n",
       "      <td>0.0</td>\n",
       "      <td>0.0</td>\n",
       "      <td>0.0</td>\n",
       "      <td>0.0</td>\n",
       "      <td>0.0</td>\n",
       "      <td>0.0</td>\n",
       "    </tr>\n",
       "    <tr>\n",
       "      <th>1</th>\n",
       "      <td>0.0</td>\n",
       "      <td>0.0</td>\n",
       "      <td>0.0</td>\n",
       "      <td>0.0</td>\n",
       "      <td>0.0</td>\n",
       "      <td>0.0</td>\n",
       "      <td>0.0</td>\n",
       "      <td>0.0</td>\n",
       "      <td>0.0</td>\n",
       "      <td>0.0</td>\n",
       "      <td>0.0</td>\n",
       "      <td>0.0</td>\n",
       "      <td>0.0</td>\n",
       "      <td>0.0</td>\n",
       "      <td>0.0</td>\n",
       "      <td>0.0</td>\n",
       "      <td>0.0</td>\n",
       "      <td>0.0</td>\n",
       "    </tr>\n",
       "    <tr>\n",
       "      <th>2</th>\n",
       "      <td>1.0</td>\n",
       "      <td>0.0</td>\n",
       "      <td>0.0</td>\n",
       "      <td>0.0</td>\n",
       "      <td>0.0</td>\n",
       "      <td>0.0</td>\n",
       "      <td>0.0</td>\n",
       "      <td>0.0</td>\n",
       "      <td>0.0</td>\n",
       "      <td>0.0</td>\n",
       "      <td>0.0</td>\n",
       "      <td>0.0</td>\n",
       "      <td>0.0</td>\n",
       "      <td>0.0</td>\n",
       "      <td>0.0</td>\n",
       "      <td>0.0</td>\n",
       "      <td>0.0</td>\n",
       "      <td>0.0</td>\n",
       "    </tr>\n",
       "    <tr>\n",
       "      <th>3</th>\n",
       "      <td>0.0</td>\n",
       "      <td>1.0</td>\n",
       "      <td>0.0</td>\n",
       "      <td>0.0</td>\n",
       "      <td>0.0</td>\n",
       "      <td>0.0</td>\n",
       "      <td>0.0</td>\n",
       "      <td>0.0</td>\n",
       "      <td>0.0</td>\n",
       "      <td>0.0</td>\n",
       "      <td>0.0</td>\n",
       "      <td>0.0</td>\n",
       "      <td>0.0</td>\n",
       "      <td>0.0</td>\n",
       "      <td>0.0</td>\n",
       "      <td>0.0</td>\n",
       "      <td>0.0</td>\n",
       "      <td>0.0</td>\n",
       "    </tr>\n",
       "    <tr>\n",
       "      <th>4</th>\n",
       "      <td>0.0</td>\n",
       "      <td>0.0</td>\n",
       "      <td>0.0</td>\n",
       "      <td>0.0</td>\n",
       "      <td>0.0</td>\n",
       "      <td>0.0</td>\n",
       "      <td>0.0</td>\n",
       "      <td>0.0</td>\n",
       "      <td>0.0</td>\n",
       "      <td>0.0</td>\n",
       "      <td>0.0</td>\n",
       "      <td>0.0</td>\n",
       "      <td>0.0</td>\n",
       "      <td>0.0</td>\n",
       "      <td>0.0</td>\n",
       "      <td>0.0</td>\n",
       "      <td>0.0</td>\n",
       "      <td>0.0</td>\n",
       "    </tr>\n",
       "    <tr>\n",
       "      <th>...</th>\n",
       "      <td>...</td>\n",
       "      <td>...</td>\n",
       "      <td>...</td>\n",
       "      <td>...</td>\n",
       "      <td>...</td>\n",
       "      <td>...</td>\n",
       "      <td>...</td>\n",
       "      <td>...</td>\n",
       "      <td>...</td>\n",
       "      <td>...</td>\n",
       "      <td>...</td>\n",
       "      <td>...</td>\n",
       "      <td>...</td>\n",
       "      <td>...</td>\n",
       "      <td>...</td>\n",
       "      <td>...</td>\n",
       "      <td>...</td>\n",
       "      <td>...</td>\n",
       "    </tr>\n",
       "    <tr>\n",
       "      <th>22496</th>\n",
       "      <td>0.0</td>\n",
       "      <td>0.0</td>\n",
       "      <td>0.0</td>\n",
       "      <td>0.0</td>\n",
       "      <td>0.0</td>\n",
       "      <td>0.0</td>\n",
       "      <td>0.0</td>\n",
       "      <td>0.0</td>\n",
       "      <td>0.0</td>\n",
       "      <td>0.0</td>\n",
       "      <td>0.0</td>\n",
       "      <td>0.0</td>\n",
       "      <td>0.0</td>\n",
       "      <td>0.0</td>\n",
       "      <td>0.0</td>\n",
       "      <td>0.0</td>\n",
       "      <td>0.0</td>\n",
       "      <td>0.0</td>\n",
       "    </tr>\n",
       "    <tr>\n",
       "      <th>22497</th>\n",
       "      <td>0.0</td>\n",
       "      <td>0.0</td>\n",
       "      <td>1.0</td>\n",
       "      <td>0.0</td>\n",
       "      <td>1.0</td>\n",
       "      <td>0.0</td>\n",
       "      <td>0.0</td>\n",
       "      <td>0.0</td>\n",
       "      <td>0.0</td>\n",
       "      <td>0.0</td>\n",
       "      <td>1.0</td>\n",
       "      <td>0.0</td>\n",
       "      <td>0.0</td>\n",
       "      <td>0.0</td>\n",
       "      <td>0.0</td>\n",
       "      <td>0.0</td>\n",
       "      <td>0.0</td>\n",
       "      <td>0.0</td>\n",
       "    </tr>\n",
       "    <tr>\n",
       "      <th>22498</th>\n",
       "      <td>0.0</td>\n",
       "      <td>0.0</td>\n",
       "      <td>1.0</td>\n",
       "      <td>0.0</td>\n",
       "      <td>1.0</td>\n",
       "      <td>1.0</td>\n",
       "      <td>0.0</td>\n",
       "      <td>0.0</td>\n",
       "      <td>0.0</td>\n",
       "      <td>0.0</td>\n",
       "      <td>0.0</td>\n",
       "      <td>0.0</td>\n",
       "      <td>0.0</td>\n",
       "      <td>0.0</td>\n",
       "      <td>0.0</td>\n",
       "      <td>0.0</td>\n",
       "      <td>0.0</td>\n",
       "      <td>0.0</td>\n",
       "    </tr>\n",
       "    <tr>\n",
       "      <th>22499</th>\n",
       "      <td>0.0</td>\n",
       "      <td>0.0</td>\n",
       "      <td>0.0</td>\n",
       "      <td>2.0</td>\n",
       "      <td>0.0</td>\n",
       "      <td>0.0</td>\n",
       "      <td>0.0</td>\n",
       "      <td>0.0</td>\n",
       "      <td>0.0</td>\n",
       "      <td>0.0</td>\n",
       "      <td>0.0</td>\n",
       "      <td>0.0</td>\n",
       "      <td>0.0</td>\n",
       "      <td>0.0</td>\n",
       "      <td>0.0</td>\n",
       "      <td>0.0</td>\n",
       "      <td>0.0</td>\n",
       "      <td>0.0</td>\n",
       "    </tr>\n",
       "    <tr>\n",
       "      <th>22500</th>\n",
       "      <td>0.0</td>\n",
       "      <td>0.0</td>\n",
       "      <td>0.0</td>\n",
       "      <td>1.0</td>\n",
       "      <td>0.0</td>\n",
       "      <td>1.0</td>\n",
       "      <td>0.0</td>\n",
       "      <td>0.0</td>\n",
       "      <td>0.0</td>\n",
       "      <td>0.0</td>\n",
       "      <td>0.0</td>\n",
       "      <td>0.0</td>\n",
       "      <td>0.0</td>\n",
       "      <td>0.0</td>\n",
       "      <td>0.0</td>\n",
       "      <td>0.0</td>\n",
       "      <td>0.0</td>\n",
       "      <td>0.0</td>\n",
       "    </tr>\n",
       "  </tbody>\n",
       "</table>\n",
       "<p>22501 rows × 18 columns</p>\n",
       "</div>"
      ],
      "text/plain": [
       "       PERSON  CARDINAL  NORP  GPE  ORG  DATE  FAC  PERCENT  ORDINAL  MONEY  \\\n",
       "0         0.0       0.0   0.0  0.0  0.0   0.0  0.0      0.0      0.0    0.0   \n",
       "1         0.0       0.0   0.0  0.0  0.0   0.0  0.0      0.0      0.0    0.0   \n",
       "2         1.0       0.0   0.0  0.0  0.0   0.0  0.0      0.0      0.0    0.0   \n",
       "3         0.0       1.0   0.0  0.0  0.0   0.0  0.0      0.0      0.0    0.0   \n",
       "4         0.0       0.0   0.0  0.0  0.0   0.0  0.0      0.0      0.0    0.0   \n",
       "...       ...       ...   ...  ...  ...   ...  ...      ...      ...    ...   \n",
       "22496     0.0       0.0   0.0  0.0  0.0   0.0  0.0      0.0      0.0    0.0   \n",
       "22497     0.0       0.0   1.0  0.0  1.0   0.0  0.0      0.0      0.0    0.0   \n",
       "22498     0.0       0.0   1.0  0.0  1.0   1.0  0.0      0.0      0.0    0.0   \n",
       "22499     0.0       0.0   0.0  2.0  0.0   0.0  0.0      0.0      0.0    0.0   \n",
       "22500     0.0       0.0   0.0  1.0  0.0   1.0  0.0      0.0      0.0    0.0   \n",
       "\n",
       "       TIME  LOC  WORK_OF_ART  LAW  EVENT  PRODUCT  QUANTITY  LANGUAGE  \n",
       "0       0.0  0.0          0.0  0.0    0.0      0.0       0.0       0.0  \n",
       "1       0.0  0.0          0.0  0.0    0.0      0.0       0.0       0.0  \n",
       "2       0.0  0.0          0.0  0.0    0.0      0.0       0.0       0.0  \n",
       "3       0.0  0.0          0.0  0.0    0.0      0.0       0.0       0.0  \n",
       "4       0.0  0.0          0.0  0.0    0.0      0.0       0.0       0.0  \n",
       "...     ...  ...          ...  ...    ...      ...       ...       ...  \n",
       "22496   0.0  0.0          0.0  0.0    0.0      0.0       0.0       0.0  \n",
       "22497   1.0  0.0          0.0  0.0    0.0      0.0       0.0       0.0  \n",
       "22498   0.0  0.0          0.0  0.0    0.0      0.0       0.0       0.0  \n",
       "22499   0.0  0.0          0.0  0.0    0.0      0.0       0.0       0.0  \n",
       "22500   0.0  0.0          0.0  0.0    0.0      0.0       0.0       0.0  \n",
       "\n",
       "[22501 rows x 18 columns]"
      ]
     },
     "execution_count": 224,
     "metadata": {},
     "output_type": "execute_result"
    }
   ],
   "source": [
    "data[:len(X_train_vec)]"
   ]
  },
  {
   "cell_type": "code",
   "execution_count": 245,
   "id": "f501bee5",
   "metadata": {},
   "outputs": [],
   "source": [
    "X_train_vec = np.concatenate((X_train_vec, data[:len(X_train_vec)]), axis=1)"
   ]
  },
  {
   "cell_type": "code",
   "execution_count": 246,
   "id": "92a1d3a3",
   "metadata": {},
   "outputs": [
    {
     "data": {
      "text/plain": [
       "(22501, 11448)"
      ]
     },
     "execution_count": 246,
     "metadata": {},
     "output_type": "execute_result"
    }
   ],
   "source": [
    "X_train_vec.shape"
   ]
  },
  {
   "cell_type": "code",
   "execution_count": 247,
   "id": "c42de79c-7785-40f8-bd73-beecfeb241fa",
   "metadata": {},
   "outputs": [
    {
     "name": "stdout",
     "output_type": "stream",
     "text": [
      "Model: \"sequential_22\"\n",
      "_________________________________________________________________\n",
      " Layer (type)                Output Shape              Param #   \n",
      "=================================================================\n",
      " dense_66 (Dense)            (None, 128)               1465472   \n",
      "                                                                 \n",
      " dense_67 (Dense)            (None, 64)                8256      \n",
      "                                                                 \n",
      " dense_68 (Dense)            (None, 3)                 195       \n",
      "                                                                 \n",
      "=================================================================\n",
      "Total params: 1,473,923\n",
      "Trainable params: 1,473,923\n",
      "Non-trainable params: 0\n",
      "_________________________________________________________________\n"
     ]
    }
   ],
   "source": [
    "reg = keras.regularizers.l2(0.001)\n",
    "tf.random.set_seed(0)\n",
    "\n",
    "model = keras.Sequential(\n",
    "    [\n",
    "        layers.Dense(128, activation='relu', input_shape=(X_train_vec.shape[1],), kernel_regularizer=reg),\n",
    "        # layers.Dropout(0.3),\n",
    "        layers.Dense(64, activation='relu', kernel_regularizer=reg),\n",
    "        # layers.Dropout(0.3, seed=1),\n",
    "        layers.Dense(3, activation='softmax'),\n",
    "    ])\n",
    "\n",
    "model.compile(optimizer='adam',\n",
    "              loss='categorical_crossentropy',\n",
    "              metrics=['accuracy'])\n",
    "\n",
    "model.summary()"
   ]
  },
  {
   "cell_type": "code",
   "execution_count": 228,
   "id": "d3585e42-3eac-4838-b5f3-2bc3e213a359",
   "metadata": {},
   "outputs": [
    {
     "name": "stdout",
     "output_type": "stream",
     "text": [
      "Epoch 1/25\n",
      "40/40 [==============================] - 2s 30ms/step - loss: 0.9885 - accuracy: 0.6984 - val_loss: 0.8026 - val_accuracy: 0.7152\n",
      "Epoch 2/25\n",
      "40/40 [==============================] - 1s 26ms/step - loss: 0.7278 - accuracy: 0.7449 - val_loss: 0.7180 - val_accuracy: 0.7397\n",
      "Epoch 3/25\n",
      "40/40 [==============================] - 1s 25ms/step - loss: 0.6645 - accuracy: 0.7697 - val_loss: 0.6953 - val_accuracy: 0.7468\n",
      "Epoch 4/25\n",
      "40/40 [==============================] - 1s 25ms/step - loss: 0.6325 - accuracy: 0.7819 - val_loss: 0.6856 - val_accuracy: 0.7534\n",
      "Epoch 5/25\n",
      "40/40 [==============================] - 1s 24ms/step - loss: 0.6096 - accuracy: 0.7955 - val_loss: 0.6863 - val_accuracy: 0.7539\n",
      "Epoch 6/25\n",
      "40/40 [==============================] - 1s 25ms/step - loss: 0.5962 - accuracy: 0.8008 - val_loss: 0.6824 - val_accuracy: 0.7583\n",
      "Epoch 7/25\n",
      "40/40 [==============================] - 1s 27ms/step - loss: 0.5808 - accuracy: 0.8110 - val_loss: 0.6789 - val_accuracy: 0.7601\n",
      "Epoch 8/25\n",
      "40/40 [==============================] - 1s 27ms/step - loss: 0.5699 - accuracy: 0.8192 - val_loss: 0.6894 - val_accuracy: 0.7566\n",
      "Epoch 9/25\n",
      "40/40 [==============================] - 1s 26ms/step - loss: 0.5598 - accuracy: 0.8234 - val_loss: 0.6975 - val_accuracy: 0.7548\n",
      "Epoch 10/25\n",
      "40/40 [==============================] - 1s 25ms/step - loss: 0.5547 - accuracy: 0.8266 - val_loss: 0.6961 - val_accuracy: 0.7597\n",
      "Epoch 11/25\n",
      "40/40 [==============================] - 1s 25ms/step - loss: 0.5411 - accuracy: 0.8344 - val_loss: 0.6949 - val_accuracy: 0.7654\n",
      "Epoch 12/25\n",
      "40/40 [==============================] - 1s 31ms/step - loss: 0.5326 - accuracy: 0.8423 - val_loss: 0.7093 - val_accuracy: 0.7561\n",
      "Epoch 13/25\n",
      "40/40 [==============================] - 1s 30ms/step - loss: 0.5259 - accuracy: 0.8439 - val_loss: 0.7085 - val_accuracy: 0.7645\n",
      "Epoch 14/25\n",
      "40/40 [==============================] - 1s 25ms/step - loss: 0.5180 - accuracy: 0.8525 - val_loss: 0.7229 - val_accuracy: 0.7597\n",
      "Epoch 15/25\n",
      "40/40 [==============================] - 1s 25ms/step - loss: 0.5120 - accuracy: 0.8556 - val_loss: 0.7227 - val_accuracy: 0.7570\n",
      "Epoch 16/25\n",
      "40/40 [==============================] - 1s 27ms/step - loss: 0.5042 - accuracy: 0.8592 - val_loss: 0.7316 - val_accuracy: 0.7530\n",
      "Epoch 17/25\n",
      "40/40 [==============================] - 1s 25ms/step - loss: 0.4998 - accuracy: 0.8647 - val_loss: 0.7386 - val_accuracy: 0.7552\n",
      "Epoch 18/25\n",
      "40/40 [==============================] - 1s 25ms/step - loss: 0.4879 - accuracy: 0.8674 - val_loss: 0.7454 - val_accuracy: 0.7579\n",
      "Epoch 19/25\n",
      "40/40 [==============================] - 1s 26ms/step - loss: 0.4797 - accuracy: 0.8737 - val_loss: 0.7478 - val_accuracy: 0.7548\n",
      "Epoch 20/25\n",
      "40/40 [==============================] - 1s 25ms/step - loss: 0.4738 - accuracy: 0.8787 - val_loss: 0.7635 - val_accuracy: 0.7521\n",
      "Epoch 21/25\n",
      "40/40 [==============================] - 1s 26ms/step - loss: 0.4671 - accuracy: 0.8849 - val_loss: 0.7598 - val_accuracy: 0.7543\n",
      "Epoch 22/25\n",
      "40/40 [==============================] - 1s 25ms/step - loss: 0.4583 - accuracy: 0.8908 - val_loss: 0.7795 - val_accuracy: 0.7490\n",
      "Epoch 23/25\n",
      "40/40 [==============================] - 1s 26ms/step - loss: 0.4534 - accuracy: 0.8914 - val_loss: 0.7826 - val_accuracy: 0.7437\n",
      "Epoch 24/25\n",
      "40/40 [==============================] - 1s 26ms/step - loss: 0.4446 - accuracy: 0.8965 - val_loss: 0.7828 - val_accuracy: 0.7561\n",
      "Epoch 25/25\n",
      "40/40 [==============================] - 1s 24ms/step - loss: 0.4356 - accuracy: 0.9035 - val_loss: 0.7849 - val_accuracy: 0.7539\n"
     ]
    }
   ],
   "source": [
    "X_train_post, X_dev_post, y_train_post, y_dev_post = train_test_split(\n",
    "                X_train_vec, y_train_dum, test_size=0.1, random_state=42)\n",
    "history = model.fit(\n",
    "    X_train_post, \n",
    "    y_train_post,\n",
    "    batch_size=512,\n",
    "    epochs=25,\n",
    "    validation_data=(X_dev_post, y_dev_post),\n",
    ")"
   ]
  },
  {
   "cell_type": "code",
   "execution_count": 248,
   "id": "20b92140",
   "metadata": {},
   "outputs": [
    {
     "name": "stdout",
     "output_type": "stream",
     "text": [
      "Epoch 1/10\n",
      "44/44 [==============================] - 2s 34ms/step - loss: 0.9918 - accuracy: 0.6768\n",
      "Epoch 2/10\n",
      "44/44 [==============================] - 1s 30ms/step - loss: 0.7179 - accuracy: 0.7474\n",
      "Epoch 3/10\n",
      "44/44 [==============================] - 1s 30ms/step - loss: 0.6540 - accuracy: 0.7706\n",
      "Epoch 4/10\n",
      "44/44 [==============================] - 1s 29ms/step - loss: 0.6187 - accuracy: 0.7914\n",
      "Epoch 5/10\n",
      "44/44 [==============================] - 1s 31ms/step - loss: 0.5960 - accuracy: 0.8064\n",
      "Epoch 6/10\n",
      "44/44 [==============================] - 1s 31ms/step - loss: 0.5787 - accuracy: 0.8154\n",
      "Epoch 7/10\n",
      "44/44 [==============================] - 1s 30ms/step - loss: 0.5628 - accuracy: 0.8225\n",
      "Epoch 8/10\n",
      "44/44 [==============================] - 1s 30ms/step - loss: 0.5513 - accuracy: 0.8305\n",
      "Epoch 9/10\n",
      "44/44 [==============================] - 1s 31ms/step - loss: 0.5433 - accuracy: 0.8357\n",
      "Epoch 10/10\n",
      "44/44 [==============================] - 1s 29ms/step - loss: 0.5326 - accuracy: 0.8443\n"
     ]
    }
   ],
   "source": [
    "history = model.fit(\n",
    "    X_train_vec, \n",
    "    y_train_dum,\n",
    "    batch_size=512,\n",
    "    epochs=10,\n",
    ")"
   ]
  },
  {
   "cell_type": "code",
   "execution_count": 249,
   "id": "ff380521-1e3f-46ac-86a3-05a82ada8ffc",
   "metadata": {},
   "outputs": [],
   "source": [
    "\n",
    "# X_test = lemmetize_all(X_test)\n",
    "test = pd.read_csv('test.csv')\n",
    "\n",
    "X_test_vec = vectorizer.transform(X_test).toarray()\n",
    "X_test_vec = np.concatenate((X_test_vec, scaler.transform(add_sentence_length(X_test))), axis=1)\n",
    "\n",
    "polarity = add_polarity(X_test)\n",
    "X_test_vec = np.concatenate((X_test_vec, polarity), axis=1)\n",
    "\n",
    "num_count = add_num_count(X_test)\n",
    "X_test_vec = np.concatenate((X_test_vec, num_count), axis=1)\n",
    "\n",
    "X_test_vec = np.concatenate((X_test_vec, data[len(X_train_vec):]), axis=1)"
   ]
  },
  {
   "cell_type": "code",
   "execution_count": 250,
   "id": "50e9c2a3-0a94-4db6-85c4-8070b1544029",
   "metadata": {},
   "outputs": [
    {
     "name": "stdout",
     "output_type": "stream",
     "text": [
      "33/33 [==============================] - 0s 2ms/step\n"
     ]
    },
    {
     "data": {
      "text/plain": [
       "array([[0.6870745 , 0.2787907 , 0.03413477],\n",
       "       [0.08123826, 0.01512453, 0.90363723],\n",
       "       [0.6910736 , 0.15414338, 0.154783  ],\n",
       "       ...,\n",
       "       [0.9944689 , 0.004495  , 0.00103609],\n",
       "       [0.6937552 , 0.17277078, 0.1334739 ],\n",
       "       [0.9374259 , 0.04111432, 0.02145977]], dtype=float32)"
      ]
     },
     "execution_count": 250,
     "metadata": {},
     "output_type": "execute_result"
    }
   ],
   "source": [
    "model.predict(X_test_vec)"
   ]
  },
  {
   "cell_type": "code",
   "execution_count": 251,
   "id": "aea92e39-4eaf-4b37-b12f-ef312494ed85",
   "metadata": {},
   "outputs": [
    {
     "name": "stdout",
     "output_type": "stream",
     "text": [
      "33/33 [==============================] - 0s 2ms/step\n"
     ]
    }
   ],
   "source": [
    "y_pred = np.argmax(model.predict(X_test_vec), axis=1) - 1"
   ]
  },
  {
   "cell_type": "code",
   "execution_count": 252,
   "id": "67075b0e-3127-4a29-a9df-b6ee4b862a9d",
   "metadata": {},
   "outputs": [],
   "source": [
    "test = pd.read_csv('test.csv')\n",
    "generate_result(test, y_pred, _STUDENT_NUM + \".csv\")"
   ]
  },
  {
   "cell_type": "code",
   "execution_count": 197,
   "id": "5c4d57a6",
   "metadata": {},
   "outputs": [
    {
     "name": "stdout",
     "output_type": "stream",
     "text": [
      "71/71 [==============================] - 0s 2ms/step\n"
     ]
    }
   ],
   "source": [
    "# y_pred = model.predict(X_train_vec)\n",
    "y_dev = np.argmax(y_dev_post.to_numpy(), axis=1) - 1\n",
    "y_dev_pred = np.argmax(model.predict(X_dev_post), axis=1) - 1"
   ]
  },
  {
   "cell_type": "code",
   "execution_count": 198,
   "id": "9654ceeb",
   "metadata": {},
   "outputs": [
    {
     "name": "stdout",
     "output_type": "stream",
     "text": [
      "              precision    recall  f1-score   support\n",
      "\n",
      "          -1       0.85      0.87      0.86      1451\n",
      "           0       0.45      0.29      0.35       250\n",
      "           1       0.64      0.69      0.66       550\n",
      "\n",
      "    accuracy                           0.76      2251\n",
      "   macro avg       0.64      0.62      0.62      2251\n",
      "weighted avg       0.75      0.76      0.76      2251\n",
      "\n"
     ]
    }
   ],
   "source": [
    "print(classification_report(y_dev, y_dev_pred))"
   ]
  },
  {
   "cell_type": "code",
   "execution_count": 209,
   "id": "9ee5e4c9-9080-418d-87c5-1e8a0c94cbe1",
   "metadata": {},
   "outputs": [
    {
     "data": {
      "text/plain": [
       "array([[1268,   49,  134],\n",
       "       [  97,   72,   81],\n",
       "       [ 130,   40,  380]], dtype=int64)"
      ]
     },
     "execution_count": 209,
     "metadata": {},
     "output_type": "execute_result"
    }
   ],
   "source": [
    "confusion_matrix(y_dev, y_dev_pred)"
   ]
  },
  {
   "cell_type": "markdown",
   "id": "529e98fc",
   "metadata": {},
   "source": []
  },
  {
   "cell_type": "code",
   "execution_count": null,
   "id": "59640504-9d00-408d-ba4a-72bf20f9b615",
   "metadata": {},
   "outputs": [],
   "source": [
    "vectorizer = CountVectorizer()\n",
    "vectorized_texts = vectorizer.fit_transform(X_train)"
   ]
  },
  {
   "cell_type": "code",
   "execution_count": null,
   "id": "c10cf90a-8cdb-4481-b638-527164cf55be",
   "metadata": {},
   "outputs": [
    {
     "data": {
      "text/plain": [
       "<22501x11424 sparse matrix of type '<class 'numpy.int64'>'\n",
       "\twith 335979 stored elements in Compressed Sparse Row format>"
      ]
     },
     "execution_count": 49,
     "metadata": {},
     "output_type": "execute_result"
    }
   ],
   "source": [
    "vectorized_texts"
   ]
  },
  {
   "cell_type": "code",
   "execution_count": null,
   "id": "5ef8fab7-24d6-4c9f-96f8-b60ac3a5c471",
   "metadata": {},
   "outputs": [
    {
     "data": {
      "text/html": [
       "<style>#sk-container-id-1 {color: black;background-color: white;}#sk-container-id-1 pre{padding: 0;}#sk-container-id-1 div.sk-toggleable {background-color: white;}#sk-container-id-1 label.sk-toggleable__label {cursor: pointer;display: block;width: 100%;margin-bottom: 0;padding: 0.3em;box-sizing: border-box;text-align: center;}#sk-container-id-1 label.sk-toggleable__label-arrow:before {content: \"▸\";float: left;margin-right: 0.25em;color: #696969;}#sk-container-id-1 label.sk-toggleable__label-arrow:hover:before {color: black;}#sk-container-id-1 div.sk-estimator:hover label.sk-toggleable__label-arrow:before {color: black;}#sk-container-id-1 div.sk-toggleable__content {max-height: 0;max-width: 0;overflow: hidden;text-align: left;background-color: #f0f8ff;}#sk-container-id-1 div.sk-toggleable__content pre {margin: 0.2em;color: black;border-radius: 0.25em;background-color: #f0f8ff;}#sk-container-id-1 input.sk-toggleable__control:checked~div.sk-toggleable__content {max-height: 200px;max-width: 100%;overflow: auto;}#sk-container-id-1 input.sk-toggleable__control:checked~label.sk-toggleable__label-arrow:before {content: \"▾\";}#sk-container-id-1 div.sk-estimator input.sk-toggleable__control:checked~label.sk-toggleable__label {background-color: #d4ebff;}#sk-container-id-1 div.sk-label input.sk-toggleable__control:checked~label.sk-toggleable__label {background-color: #d4ebff;}#sk-container-id-1 input.sk-hidden--visually {border: 0;clip: rect(1px 1px 1px 1px);clip: rect(1px, 1px, 1px, 1px);height: 1px;margin: -1px;overflow: hidden;padding: 0;position: absolute;width: 1px;}#sk-container-id-1 div.sk-estimator {font-family: monospace;background-color: #f0f8ff;border: 1px dotted black;border-radius: 0.25em;box-sizing: border-box;margin-bottom: 0.5em;}#sk-container-id-1 div.sk-estimator:hover {background-color: #d4ebff;}#sk-container-id-1 div.sk-parallel-item::after {content: \"\";width: 100%;border-bottom: 1px solid gray;flex-grow: 1;}#sk-container-id-1 div.sk-label:hover label.sk-toggleable__label {background-color: #d4ebff;}#sk-container-id-1 div.sk-serial::before {content: \"\";position: absolute;border-left: 1px solid gray;box-sizing: border-box;top: 0;bottom: 0;left: 50%;z-index: 0;}#sk-container-id-1 div.sk-serial {display: flex;flex-direction: column;align-items: center;background-color: white;padding-right: 0.2em;padding-left: 0.2em;position: relative;}#sk-container-id-1 div.sk-item {position: relative;z-index: 1;}#sk-container-id-1 div.sk-parallel {display: flex;align-items: stretch;justify-content: center;background-color: white;position: relative;}#sk-container-id-1 div.sk-item::before, #sk-container-id-1 div.sk-parallel-item::before {content: \"\";position: absolute;border-left: 1px solid gray;box-sizing: border-box;top: 0;bottom: 0;left: 50%;z-index: -1;}#sk-container-id-1 div.sk-parallel-item {display: flex;flex-direction: column;z-index: 1;position: relative;background-color: white;}#sk-container-id-1 div.sk-parallel-item:first-child::after {align-self: flex-end;width: 50%;}#sk-container-id-1 div.sk-parallel-item:last-child::after {align-self: flex-start;width: 50%;}#sk-container-id-1 div.sk-parallel-item:only-child::after {width: 0;}#sk-container-id-1 div.sk-dashed-wrapped {border: 1px dashed gray;margin: 0 0.4em 0.5em 0.4em;box-sizing: border-box;padding-bottom: 0.4em;background-color: white;}#sk-container-id-1 div.sk-label label {font-family: monospace;font-weight: bold;display: inline-block;line-height: 1.2em;}#sk-container-id-1 div.sk-label-container {text-align: center;}#sk-container-id-1 div.sk-container {/* jupyter's `normalize.less` sets `[hidden] { display: none; }` but bootstrap.min.css set `[hidden] { display: none !important; }` so we also need the `!important` here to be able to override the default hidden behavior on the sphinx rendered scikit-learn.org. See: https://github.com/scikit-learn/scikit-learn/issues/21755 */display: inline-block !important;position: relative;}#sk-container-id-1 div.sk-text-repr-fallback {display: none;}</style><div id=\"sk-container-id-1\" class=\"sk-top-container\"><div class=\"sk-text-repr-fallback\"><pre>MultinomialNB()</pre><b>In a Jupyter environment, please rerun this cell to show the HTML representation or trust the notebook. <br />On GitHub, the HTML representation is unable to render, please try loading this page with nbviewer.org.</b></div><div class=\"sk-container\" hidden><div class=\"sk-item\"><div class=\"sk-estimator sk-toggleable\"><input class=\"sk-toggleable__control sk-hidden--visually\" id=\"sk-estimator-id-1\" type=\"checkbox\" checked><label for=\"sk-estimator-id-1\" class=\"sk-toggleable__label sk-toggleable__label-arrow\">MultinomialNB</label><div class=\"sk-toggleable__content\"><pre>MultinomialNB()</pre></div></div></div></div></div>"
      ],
      "text/plain": [
       "MultinomialNB()"
      ]
     },
     "execution_count": 50,
     "metadata": {},
     "output_type": "execute_result"
    }
   ],
   "source": [
    "classifier = MultinomialNB()\n",
    "classifier.fit(vectorized_texts, y_train)"
   ]
  },
  {
   "cell_type": "code",
   "execution_count": null,
   "id": "170fde3c-d35b-4867-99a8-e615dba0a17b",
   "metadata": {},
   "outputs": [],
   "source": [
    "y_pred = classifier.predict(vectorized_texts)"
   ]
  },
  {
   "cell_type": "code",
   "execution_count": null,
   "id": "da83ea2a-fd61-4834-bed7-2ea2a9f698b4",
   "metadata": {},
   "outputs": [],
   "source": [
    "score = f1_score(y_train, y_pred, average='macro')"
   ]
  },
  {
   "cell_type": "code",
   "execution_count": null,
   "id": "662eb92a-bcde-44cc-a1c6-95fa7f594c07",
   "metadata": {},
   "outputs": [
    {
     "data": {
      "text/plain": [
       "0.7175508264672326"
      ]
     },
     "execution_count": 53,
     "metadata": {},
     "output_type": "execute_result"
    }
   ],
   "source": [
    "score"
   ]
  },
  {
   "cell_type": "code",
   "execution_count": null,
   "id": "5ab67664",
   "metadata": {},
   "outputs": [],
   "source": [
    "y_pred = classifier.predict(vectorizer.transform(X_test))"
   ]
  },
  {
   "attachments": {},
   "cell_type": "markdown",
   "id": "80b0b28f",
   "metadata": {},
   "source": [
    "\n"
   ]
  },
  {
   "cell_type": "code",
   "execution_count": 212,
   "id": "9c0b16f3",
   "metadata": {},
   "outputs": [],
   "source": [
    "vectorizer = TfidfVectorizer()\n",
    "vectorized_texts = vectorizer.fit_transform(X_train)"
   ]
  },
  {
   "cell_type": "code",
   "execution_count": 213,
   "id": "8cf2e274",
   "metadata": {},
   "outputs": [
    {
     "data": {
      "text/html": [
       "<style>#sk-container-id-4 {color: black;background-color: white;}#sk-container-id-4 pre{padding: 0;}#sk-container-id-4 div.sk-toggleable {background-color: white;}#sk-container-id-4 label.sk-toggleable__label {cursor: pointer;display: block;width: 100%;margin-bottom: 0;padding: 0.3em;box-sizing: border-box;text-align: center;}#sk-container-id-4 label.sk-toggleable__label-arrow:before {content: \"▸\";float: left;margin-right: 0.25em;color: #696969;}#sk-container-id-4 label.sk-toggleable__label-arrow:hover:before {color: black;}#sk-container-id-4 div.sk-estimator:hover label.sk-toggleable__label-arrow:before {color: black;}#sk-container-id-4 div.sk-toggleable__content {max-height: 0;max-width: 0;overflow: hidden;text-align: left;background-color: #f0f8ff;}#sk-container-id-4 div.sk-toggleable__content pre {margin: 0.2em;color: black;border-radius: 0.25em;background-color: #f0f8ff;}#sk-container-id-4 input.sk-toggleable__control:checked~div.sk-toggleable__content {max-height: 200px;max-width: 100%;overflow: auto;}#sk-container-id-4 input.sk-toggleable__control:checked~label.sk-toggleable__label-arrow:before {content: \"▾\";}#sk-container-id-4 div.sk-estimator input.sk-toggleable__control:checked~label.sk-toggleable__label {background-color: #d4ebff;}#sk-container-id-4 div.sk-label input.sk-toggleable__control:checked~label.sk-toggleable__label {background-color: #d4ebff;}#sk-container-id-4 input.sk-hidden--visually {border: 0;clip: rect(1px 1px 1px 1px);clip: rect(1px, 1px, 1px, 1px);height: 1px;margin: -1px;overflow: hidden;padding: 0;position: absolute;width: 1px;}#sk-container-id-4 div.sk-estimator {font-family: monospace;background-color: #f0f8ff;border: 1px dotted black;border-radius: 0.25em;box-sizing: border-box;margin-bottom: 0.5em;}#sk-container-id-4 div.sk-estimator:hover {background-color: #d4ebff;}#sk-container-id-4 div.sk-parallel-item::after {content: \"\";width: 100%;border-bottom: 1px solid gray;flex-grow: 1;}#sk-container-id-4 div.sk-label:hover label.sk-toggleable__label {background-color: #d4ebff;}#sk-container-id-4 div.sk-serial::before {content: \"\";position: absolute;border-left: 1px solid gray;box-sizing: border-box;top: 0;bottom: 0;left: 50%;z-index: 0;}#sk-container-id-4 div.sk-serial {display: flex;flex-direction: column;align-items: center;background-color: white;padding-right: 0.2em;padding-left: 0.2em;position: relative;}#sk-container-id-4 div.sk-item {position: relative;z-index: 1;}#sk-container-id-4 div.sk-parallel {display: flex;align-items: stretch;justify-content: center;background-color: white;position: relative;}#sk-container-id-4 div.sk-item::before, #sk-container-id-4 div.sk-parallel-item::before {content: \"\";position: absolute;border-left: 1px solid gray;box-sizing: border-box;top: 0;bottom: 0;left: 50%;z-index: -1;}#sk-container-id-4 div.sk-parallel-item {display: flex;flex-direction: column;z-index: 1;position: relative;background-color: white;}#sk-container-id-4 div.sk-parallel-item:first-child::after {align-self: flex-end;width: 50%;}#sk-container-id-4 div.sk-parallel-item:last-child::after {align-self: flex-start;width: 50%;}#sk-container-id-4 div.sk-parallel-item:only-child::after {width: 0;}#sk-container-id-4 div.sk-dashed-wrapped {border: 1px dashed gray;margin: 0 0.4em 0.5em 0.4em;box-sizing: border-box;padding-bottom: 0.4em;background-color: white;}#sk-container-id-4 div.sk-label label {font-family: monospace;font-weight: bold;display: inline-block;line-height: 1.2em;}#sk-container-id-4 div.sk-label-container {text-align: center;}#sk-container-id-4 div.sk-container {/* jupyter's `normalize.less` sets `[hidden] { display: none; }` but bootstrap.min.css set `[hidden] { display: none !important; }` so we also need the `!important` here to be able to override the default hidden behavior on the sphinx rendered scikit-learn.org. See: https://github.com/scikit-learn/scikit-learn/issues/21755 */display: inline-block !important;position: relative;}#sk-container-id-4 div.sk-text-repr-fallback {display: none;}</style><div id=\"sk-container-id-4\" class=\"sk-top-container\"><div class=\"sk-text-repr-fallback\"><pre>MultinomialNB()</pre><b>In a Jupyter environment, please rerun this cell to show the HTML representation or trust the notebook. <br />On GitHub, the HTML representation is unable to render, please try loading this page with nbviewer.org.</b></div><div class=\"sk-container\" hidden><div class=\"sk-item\"><div class=\"sk-estimator sk-toggleable\"><input class=\"sk-toggleable__control sk-hidden--visually\" id=\"sk-estimator-id-4\" type=\"checkbox\" checked><label for=\"sk-estimator-id-4\" class=\"sk-toggleable__label sk-toggleable__label-arrow\">MultinomialNB</label><div class=\"sk-toggleable__content\"><pre>MultinomialNB()</pre></div></div></div></div></div>"
      ],
      "text/plain": [
       "MultinomialNB()"
      ]
     },
     "execution_count": 213,
     "metadata": {},
     "output_type": "execute_result"
    }
   ],
   "source": [
    "classifier = MultinomialNB()\n",
    "classifier.fit(vectorized_texts, y_train)"
   ]
  },
  {
   "cell_type": "code",
   "execution_count": 214,
   "id": "9def389c",
   "metadata": {},
   "outputs": [
    {
     "data": {
      "text/plain": [
       "0.7514332696324608"
      ]
     },
     "execution_count": 214,
     "metadata": {},
     "output_type": "execute_result"
    }
   ],
   "source": [
    "classifier.score(vectorized_texts, y_train)"
   ]
  },
  {
   "cell_type": "code",
   "execution_count": 215,
   "id": "aa5d34bc",
   "metadata": {},
   "outputs": [],
   "source": [
    "y_pred = classifier.predict(vectorizer.transform(X_test))"
   ]
  },
  {
   "cell_type": "code",
   "execution_count": 216,
   "id": "40cd3e30",
   "metadata": {},
   "outputs": [],
   "source": [
    "test = pd.read_csv('test.csv')\n",
    "generate_result(test, y_pred, _STUDENT_NUM + \".csv\")"
   ]
  },
  {
   "cell_type": "code",
   "execution_count": 178,
   "id": "e46e6b60-64c6-42f3-a690-2e118e2d74d2",
   "metadata": {},
   "outputs": [],
   "source": [
    "class_polarity = collections.defaultdict(list)\n",
    "class_polarity[-1] = [0, 0, 0, 0]\n",
    "class_polarity[0] = [0, 0, 0, 0]\n",
    "class_polarity[1] = [0, 0, 0, 0]\n",
    "\n",
    "sid = SentimentIntensityAnalyzer()\n",
    "\n",
    "for i in range(len(X_train)):\n",
    "    ss = sid.polarity_scores(X_train[i])\n",
    "    class_polarity[y_train[i]][0] += ss['neg']\n",
    "    class_polarity[y_train[i]][1] += ss['neu']\n",
    "    class_polarity[y_train[i]][2] += ss['pos']\n",
    "    class_polarity[y_train[i]][3] += ss['compound']"
   ]
  },
  {
   "cell_type": "code",
   "execution_count": 197,
   "id": "2833935c-be81-42ab-85e3-ccb7fe626d1a",
   "metadata": {},
   "outputs": [
    {
     "data": {
      "text/plain": [
       "<AxesSubplot:>"
      ]
     },
     "execution_count": 197,
     "metadata": {},
     "output_type": "execute_result"
    },
    {
     "data": {
      "image/png": "[encoded data removed]",
      "text/plain": [
       "<Figure size 432x288 with 1 Axes>"
      ]
     },
     "metadata": {
      "needs_background": "light"
     },
     "output_type": "display_data"
    }
   ],
   "source": [
    "pd.DataFrame.from_dict(class_polarity, orient='index').div(y_train.value_counts(), axis=0).plot.bar()"
   ]
  },
  {
   "cell_type": "code",
   "execution_count": 136,
   "id": "12dfc256",
   "metadata": {},
   "outputs": [
    {
     "data": {
      "text/plain": [
       "[('Storwerqw', 'NN')]"
      ]
     },
     "execution_count": 136,
     "metadata": {},
     "output_type": "execute_result"
    }
   ],
   "source": [
    "nltk.pos_tag(nltk.word_tokenize(\"Storwerqw\"))"
   ]
  },
  {
   "cell_type": "markdown",
   "id": "1b5c7acf",
   "metadata": {},
   "source": []
  },
  {
   "cell_type": "code",
   "execution_count": 104,
   "id": "155276a5",
   "metadata": {},
   "outputs": [],
   "source": [
    "lr_clf = LogisticRegression(multi_class='multinomial', solver='lbfgs', max_iter=1000)"
   ]
  },
  {
   "cell_type": "code",
   "execution_count": 105,
   "id": "8f3abff3",
   "metadata": {},
   "outputs": [
    {
     "data": {
      "text/plain": [
       "(22501, 5006)"
      ]
     },
     "execution_count": 105,
     "metadata": {},
     "output_type": "execute_result"
    }
   ],
   "source": [
    "X_train_vec.shape"
   ]
  },
  {
   "cell_type": "code",
   "execution_count": null,
   "id": "c2752433",
   "metadata": {},
   "outputs": [],
   "source": [
    "lr_clf.fit(X_train_vec, y_train)"
   ]
  },
  {
   "cell_type": "code",
   "execution_count": 107,
   "id": "8ea40edc",
   "metadata": {},
   "outputs": [],
   "source": [
    "y_pred = lr_clf.predict(X_train_vec)"
   ]
  },
  {
   "cell_type": "code",
   "execution_count": 113,
   "id": "96f240e4",
   "metadata": {},
   "outputs": [
    {
     "data": {
      "text/plain": [
       "0.7048283674184939"
      ]
     },
     "execution_count": 113,
     "metadata": {},
     "output_type": "execute_result"
    }
   ],
   "source": [
    "f1_score(y_train, y_pred, average='macro')"
   ]
  },
  {
   "cell_type": "code",
   "execution_count": 154,
   "id": "4175784d",
   "metadata": {},
   "outputs": [],
   "source": [
    "tmp = ' '.join(train.loc[train['Verdict'] == -1, 'Text'].values)\n",
    "tokens = [token.lower() for token in word_tokenize(tmp) if token.isalpha() and \n",
    "          token.lower() not in nltk.corpus.stopwords.words('english')]"
   ]
  },
  {
   "cell_type": "code",
   "execution_count": 169,
   "id": "e14a9103",
   "metadata": {},
   "outputs": [],
   "source": [
    "common_list = most_common_by_type(train)"
   ]
  },
  {
   "cell_type": "code",
   "execution_count": 172,
   "id": "d0ce2e27",
   "metadata": {},
   "outputs": [
    {
     "data": {
      "text/plain": [
       "70"
      ]
     },
     "execution_count": 172,
     "metadata": {},
     "output_type": "execute_result"
    }
   ],
   "source": [
    "len(list(set([t[0] for label_common in common_list for t in label_common ])))"
   ]
  },
  {
   "cell_type": "markdown",
   "id": "a23c008c",
   "metadata": {},
   "source": []
  },
  {
   "cell_type": "code",
   "execution_count": 270,
   "id": "9073d762",
   "metadata": {},
   "outputs": [],
   "source": [
    "# Oversample the minority class\n",
    "vectorizer = CountVectorizer()\n",
    "X_train_counts = vectorizer.fit_transform(X_train)\n",
    "\n",
    "oversampler = SMOTE(random_state=42)\n",
    "X_train_resampled, y_train_resampled = oversampler.fit_resample(X_train_counts, y_train)\n",
    "y_train_dum2 = pd.get_dummies(y_train_resampled)"
   ]
  },
  {
   "cell_type": "code",
   "execution_count": 272,
   "id": "d832053e",
   "metadata": {},
   "outputs": [
    {
     "name": "stdout",
     "output_type": "stream",
     "text": [
      "Model: \"sequential_25\"\n",
      "_________________________________________________________________\n",
      " Layer (type)                Output Shape              Param #   \n",
      "=================================================================\n",
      " dense_75 (Dense)            (None, 128)               1462400   \n",
      "                                                                 \n",
      " dense_76 (Dense)            (None, 64)                8256      \n",
      "                                                                 \n",
      " dense_77 (Dense)            (None, 3)                 195       \n",
      "                                                                 \n",
      "=================================================================\n",
      "Total params: 1,470,851\n",
      "Trainable params: 1,470,851\n",
      "Non-trainable params: 0\n",
      "_________________________________________________________________\n",
      "Epoch 1/25\n",
      "78/78 [==============================] - 5s 52ms/step - loss: 0.9672 - accuracy: 0.6393 - val_loss: 0.8188 - val_accuracy: 0.7038\n",
      "Epoch 2/25\n",
      "78/78 [==============================] - 4s 48ms/step - loss: 0.7648 - accuracy: 0.7280 - val_loss: 0.7660 - val_accuracy: 0.7224\n",
      "Epoch 3/25\n",
      "78/78 [==============================] - 4s 48ms/step - loss: 0.6954 - accuracy: 0.7533 - val_loss: 0.7493 - val_accuracy: 0.7272\n",
      "Epoch 4/25\n",
      "78/78 [==============================] - 4s 49ms/step - loss: 0.6509 - accuracy: 0.7727 - val_loss: 0.7290 - val_accuracy: 0.7422\n",
      "Epoch 5/25\n",
      "78/78 [==============================] - 4s 49ms/step - loss: 0.6145 - accuracy: 0.7951 - val_loss: 0.7252 - val_accuracy: 0.7474\n",
      "Epoch 6/25\n",
      "78/78 [==============================] - 4s 47ms/step - loss: 0.5818 - accuracy: 0.8155 - val_loss: 0.7296 - val_accuracy: 0.7449\n",
      "Epoch 7/25\n",
      "78/78 [==============================] - 4s 48ms/step - loss: 0.5468 - accuracy: 0.8368 - val_loss: 0.7411 - val_accuracy: 0.7494\n",
      "Epoch 8/25\n",
      "78/78 [==============================] - 4s 49ms/step - loss: 0.5180 - accuracy: 0.8499 - val_loss: 0.7373 - val_accuracy: 0.7544\n",
      "Epoch 9/25\n",
      "78/78 [==============================] - 4s 48ms/step - loss: 0.4904 - accuracy: 0.8659 - val_loss: 0.7461 - val_accuracy: 0.7576\n",
      "Epoch 10/25\n",
      "78/78 [==============================] - 4s 49ms/step - loss: 0.4667 - accuracy: 0.8800 - val_loss: 0.7525 - val_accuracy: 0.7590\n",
      "Epoch 11/25\n",
      "78/78 [==============================] - 4s 49ms/step - loss: 0.4475 - accuracy: 0.8886 - val_loss: 0.7628 - val_accuracy: 0.7612\n",
      "Epoch 12/25\n",
      "78/78 [==============================] - 4s 49ms/step - loss: 0.4348 - accuracy: 0.8935 - val_loss: 0.7551 - val_accuracy: 0.7655\n",
      "Epoch 13/25\n",
      "78/78 [==============================] - 4s 49ms/step - loss: 0.4213 - accuracy: 0.9001 - val_loss: 0.7604 - val_accuracy: 0.7724\n",
      "Epoch 14/25\n",
      "78/78 [==============================] - 4s 49ms/step - loss: 0.4107 - accuracy: 0.9050 - val_loss: 0.7510 - val_accuracy: 0.7678\n",
      "Epoch 15/25\n",
      "78/78 [==============================] - 4s 49ms/step - loss: 0.3985 - accuracy: 0.9078 - val_loss: 0.7713 - val_accuracy: 0.7760\n",
      "Epoch 16/25\n",
      "78/78 [==============================] - 4s 49ms/step - loss: 0.3912 - accuracy: 0.9107 - val_loss: 0.7752 - val_accuracy: 0.7662\n",
      "Epoch 17/25\n",
      "78/78 [==============================] - 4s 47ms/step - loss: 0.3838 - accuracy: 0.9132 - val_loss: 0.7638 - val_accuracy: 0.7724\n",
      "Epoch 18/25\n",
      "78/78 [==============================] - 4s 48ms/step - loss: 0.3774 - accuracy: 0.9156 - val_loss: 0.7625 - val_accuracy: 0.7796\n",
      "Epoch 19/25\n",
      "78/78 [==============================] - 4s 51ms/step - loss: 0.3725 - accuracy: 0.9173 - val_loss: 0.7785 - val_accuracy: 0.7742\n",
      "Epoch 20/25\n",
      "78/78 [==============================] - 4s 53ms/step - loss: 0.3669 - accuracy: 0.9181 - val_loss: 0.7745 - val_accuracy: 0.7746\n",
      "Epoch 21/25\n",
      "78/78 [==============================] - 4s 48ms/step - loss: 0.3583 - accuracy: 0.9218 - val_loss: 0.7625 - val_accuracy: 0.7762\n",
      "Epoch 22/25\n",
      "78/78 [==============================] - 4s 50ms/step - loss: 0.3519 - accuracy: 0.9242 - val_loss: 0.7678 - val_accuracy: 0.7762\n",
      "Epoch 23/25\n",
      "78/78 [==============================] - 4s 49ms/step - loss: 0.3499 - accuracy: 0.9247 - val_loss: 0.7915 - val_accuracy: 0.7767\n",
      "Epoch 24/25\n",
      "78/78 [==============================] - 4s 52ms/step - loss: 0.3505 - accuracy: 0.9233 - val_loss: 0.7926 - val_accuracy: 0.7769\n",
      "Epoch 25/25\n",
      "78/78 [==============================] - 4s 57ms/step - loss: 0.3409 - accuracy: 0.9278 - val_loss: 0.7789 - val_accuracy: 0.7794\n"
     ]
    }
   ],
   "source": [
    "reg = keras.regularizers.l2(0.001)\n",
    "tf.random.set_seed(0)\n",
    "\n",
    "model = keras.Sequential(\n",
    "    [\n",
    "        layers.Dense(128, activation='relu', input_shape=(X_train_resampled.shape[1],), kernel_regularizer=reg),\n",
    "        # layers.Dropout(0.3),\n",
    "        layers.Dense(64, activation='relu', kernel_regularizer=reg),\n",
    "        # layers.Dropout(0.3, seed=1),\n",
    "        layers.Dense(3, activation='softmax'),\n",
    "    ])\n",
    "\n",
    "model.compile(optimizer='adam',\n",
    "              loss='categorical_crossentropy',\n",
    "              metrics=['accuracy'])\n",
    "\n",
    "model.summary()\n",
    "\n",
    "X_train_post, X_dev_post, y_train_post, y_dev_post = train_test_split(\n",
    "                X_train_resampled.toarray(), y_train_dum2, test_size=0.1, random_state=42)\n",
    "history = model.fit(\n",
    "    X_train_post, \n",
    "    y_train_post,\n",
    "    batch_size=512,\n",
    "    epochs=25,\n",
    "    validation_data=(X_dev_post, y_dev_post),\n",
    ")\n"
   ]
  },
  {
   "cell_type": "code",
   "execution_count": null,
   "id": "b1e77f55",
   "metadata": {},
   "outputs": [],
   "source": []
  },
  {
   "cell_type": "code",
   "execution_count": null,
   "id": "106e7e52",
   "metadata": {},
   "outputs": [],
   "source": []
  }
 ],
 "metadata": {
  "kernelspec": {
   "display_name": "tensorflow",
   "language": "python",
   "name": "python3"
  },
  "language_info": {
   "codemirror_mode": {
    "name": "ipython",
    "version": 3
   },
   "file_extension": ".py",
   "mimetype": "text/x-python",
   "name": "python",
   "nbconvert_exporter": "python",
   "pygments_lexer": "ipython3",
   "version": "3.9.16"
  },
  "vscode": {
   "interpreter": {
    "hash": "f1e31f704b02f36dd9211742a29ae85dddc2da720b4ac32804e8ae51264cf558"
   }
  }
 },
 "nbformat": 4,
 "nbformat_minor": 5
}
