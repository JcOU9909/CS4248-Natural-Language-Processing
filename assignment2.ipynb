{
 "cells": [
  {
   "cell_type": "code",
   "execution_count": 164,
   "id": "9ca88594-46c7-4d2f-b09e-6e9f76958cbf",
   "metadata": {},
   "outputs": [],
   "source": [
    "import numpy as np\n",
    "import pandas as pd\n",
    "import collections\n",
    "import tensorflow as tf\n",
    "from tensorflow import keras\n",
    "from tensorflow.keras import layers\n",
    "from tensorflow.keras.utils import to_categorical\n",
    "\n",
    "import nltk\n",
    "from nltk.tokenize import word_tokenize\n",
    "from nltk.stem import WordNetLemmatizer\n",
    "\n",
    "from sklearn.metrics import f1_score\n",
    "from sklearn.naive_bayes import GaussianNB, MultinomialNB\n",
    "from sklearn.preprocessing import OneHotEncoder, MinMaxScaler\n",
    "from sklearn.model_selection import train_test_split\n",
    "from nltk.sentiment.vader import SentimentIntensityAnalyzer\n",
    "from sklearn.feature_extraction.text import TfidfVectorizer, CountVectorizer"
   ]
  },
  {
   "cell_type": "code",
   "execution_count": 2,
   "id": "ceb07e46-4d3e-4d85-87fe-fc10f85ad5c9",
   "metadata": {},
   "outputs": [],
   "source": [
    "# TODO: Replace with your Student Number\n",
    "_STUDENT_NUM = 'A0251445J'"
   ]
  },
  {
   "cell_type": "code",
   "execution_count": null,
   "id": "6d39ee95-6e53-4cad-8452-1626606ae2ab",
   "metadata": {},
   "outputs": [],
   "source": [
    "def feature_extraction():\n",
    "    "
   ]
  },
  {
   "cell_type": "code",
   "execution_count": 3,
   "id": "bdcc1732-0032-4a8e-a951-c93043202f08",
   "metadata": {},
   "outputs": [],
   "source": [
    "def lemmetize_all(X):\n",
    "    \"\"\" TODO: preprocess data\"\"\"\n",
    "    X_lemmetize = []\n",
    "    wnl = WordNetLemmatizer()\n",
    "    for sentence in X:\n",
    "        tmp = []\n",
    "        for word, tag in nltk.pos_tag(word_tokenize(sentence)):\n",
    "            if tag.startswith('NN'):\n",
    "                tmp.append(wnl.lemmatize(word, pos='n'))\n",
    "            elif tag.startswith('VB'):\n",
    "                tmp.append(wnl.lemmatize(word, pos='v'))\n",
    "            elif tag.startswith('JJ'):\n",
    "                tmp.append(wnl.lemmatize(word, pos='a'))\n",
    "            elif tag.startswith('R'):\n",
    "                tmp.append(wnl.lemmatize(word, pos='r'))\n",
    "            else:\n",
    "                tmp.append(word)\n",
    "            \n",
    "        X_lemmetize.append(' '.join(tmp))\n",
    "        \n",
    "    return X_lemmetize"
   ]
  },
  {
   "cell_type": "code",
   "execution_count": 4,
   "id": "52a3961d-ec53-41ca-81aa-5189ae4d0a43",
   "metadata": {},
   "outputs": [],
   "source": [
    "def add_sentence_length(X):\n",
    "    return np.array([len(sentence.split()) for sentence in X]).reshape((-1, 1))\n",
    "\n"
   ]
  },
  {
   "cell_type": "code",
   "execution_count": 5,
   "id": "8fe24fe0-b25c-4e4c-a369-cb9fbfcc41d8",
   "metadata": {},
   "outputs": [],
   "source": [
    "def train_model(model, X_train, y_train, method = 'nn', need_dev = 'False'):\n",
    "    \"\"\" TODO: train your model based on the training data \"\"\"\n",
    "        \n",
    "    if method == 'nn':\n",
    "        model.compile(optimizer='adam',\n",
    "                  loss='categorical_crossentropy',\n",
    "                  metrics=['accuracy'])\n",
    "        \n",
    "        if need_dev == 'True':\n",
    "            X_train_post, X_dev_post, y_train_post, y_dev_post = train_test_split(\n",
    "                X_train, y_train, test_size=0.2, random_state=42)\n",
    "            history = model.fit(\n",
    "                X_train_post, \n",
    "                y_train_post,\n",
    "                batch_size=512,\n",
    "                epochs=15,\n",
    "                validation_data=(X_dev_post, y_dev_post),\n",
    "            )\n",
    "        else:\n",
    "            history = model.fit(\n",
    "                X_train, \n",
    "                y_train,\n",
    "                batch_size=512,\n",
    "                epochs=15,\n",
    "            )\n",
    "    \n",
    "    return"
   ]
  },
  {
   "cell_type": "code",
   "execution_count": 67,
   "id": "cd4766b3-92b9-4db8-85de-294613757409",
   "metadata": {},
   "outputs": [],
   "source": [
    "def predict(model, X_test, method = 'nn'):\n",
    "    \"\"\" TODO: make your prediction here \"\"\"\n",
    "    if method == 'nn':\n",
    "        y_pred = np.argmax(model.predict(X_test), axis=1) - 1\n",
    "    return y_pred"
   ]
  },
  {
   "cell_type": "code",
   "execution_count": 7,
   "id": "6ab714e9-8796-4644-9c29-24c53645da65",
   "metadata": {},
   "outputs": [],
   "source": [
    "def generate_result(test, y_pred, filename):\n",
    "    \"\"\" generate csv file base on the y_pred \"\"\"\n",
    "    test['Verdict'] = pd.Series(y_pred)\n",
    "    test.drop(columns=['Text'], inplace=True)\n",
    "    test.to_csv(filename, index=False)"
   ]
  },
  {
   "cell_type": "code",
   "execution_count": 8,
   "id": "e8bf993c-be7a-425a-958e-2efb0c7ed479",
   "metadata": {},
   "outputs": [],
   "source": [
    "def main():\n",
    "    \"\"\" load train, val, and test data \"\"\"\n",
    "    train = pd.read_csv('train.csv')\n",
    "    X_train = train['Text']\n",
    "    y_train = train['Verdict']\n",
    "    \n",
    "    test = pd.read_csv('test.csv')\n",
    "    X_test = test['Text']\n",
    "    # preprocessing\n",
    "    \n",
    "    \n",
    "    model = None  # TODO: Define your model here\n",
    "    \n",
    "    model = keras.Sequential(\n",
    "    [\n",
    "        layers.Dense(32, activation='relu', input_shape=(X_train_vec.shape[1],)),\n",
    "        layers.Dropout(0.3),\n",
    "        layers.Dense(16, activation='relu'),\n",
    "        layers.Dropout(0.3),\n",
    "        layers.Dense(3, activation='softmax'),\n",
    "    ])\n",
    "\n",
    "    # model.summary()\n",
    "    \n",
    "    train_model(model, X_train, y_train)\n",
    "    \n",
    "#     # test your model\n",
    "#     y_pred = predict(model, X_train)\n",
    "\n",
    "    # Use f1-macro as the metric\n",
    "    score = f1_score(y_train, y_pred, average='macro')\n",
    "    print('score on validation = {}'.format(score))\n",
    "\n",
    "    # generate prediction on test data\n",
    "    y_pred = predict(model, X_test)\n",
    "    \n",
    "#     generate_result(test, y_pred, _STUDENT_NUM + \".csv\")"
   ]
  },
  {
   "cell_type": "code",
   "execution_count": 5,
   "id": "2e24267b-fff6-4ea1-847b-4554b49ce49d",
   "metadata": {},
   "outputs": [],
   "source": [
    "# Allow the main class to be invoked if run as a file.\n",
    "if __name__ == \"__main__\":\n",
    "    main()\n"
   ]
  },
  {
   "cell_type": "code",
   "execution_count": 120,
   "id": "93e267b3-a5ac-4250-ac0e-29dccf08281b",
   "metadata": {},
   "outputs": [],
   "source": [
    "train = pd.read_csv('train.csv')\n",
    "X_train = train['Text']\n",
    "y_train = train['Verdict']\n",
    "\n",
    "# X_train = [word_tokenize(sentence) for sentence in X_train]"
   ]
  },
  {
   "cell_type": "code",
   "execution_count": 121,
   "id": "b8292729-e3de-4195-921a-d6fbfa65360a",
   "metadata": {},
   "outputs": [],
   "source": [
    "# X_train = lemmetize_all(X_train)"
   ]
  },
  {
   "cell_type": "code",
   "execution_count": 122,
   "id": "75df46f1-078d-487e-9f1a-6e9210ca599a",
   "metadata": {},
   "outputs": [],
   "source": [
    "vectorizer = TfidfVectorizer().fit(X_train)\n",
    "X_train_vec = vectorizer.transform(X_train).toarray()\n",
    "\n",
    "y_train_dum = pd.get_dummies(y_train)"
   ]
  },
  {
   "cell_type": "code",
   "execution_count": null,
   "id": "0656ed7d-2a65-4d2a-b412-7d6d31426420",
   "metadata": {},
   "outputs": [],
   "source": []
  },
  {
   "cell_type": "code",
   "execution_count": 104,
   "id": "8e6ef3f2-3453-4e9d-9575-6f0e537271f5",
   "metadata": {},
   "outputs": [],
   "source": [
    "# Additional features\n",
    "scaler = MinMaxScaler()\n",
    "X_train_vec = np.concatenate((X_train_vec, scaler.fit_transform(add_sentence_length(X_train))), axis=1)"
   ]
  },
  {
   "cell_type": "code",
   "execution_count": 125,
   "id": "c42de79c-7785-40f8-bd73-beecfeb241fa",
   "metadata": {},
   "outputs": [
    {
     "name": "stdout",
     "output_type": "stream",
     "text": [
      "Model: \"sequential_31\"\n",
      "_________________________________________________________________\n",
      "Layer (type)                 Output Shape              Param #   \n",
      "=================================================================\n",
      "dense_94 (Dense)             (None, 32)                365600    \n",
      "_________________________________________________________________\n",
      "dropout_60 (Dropout)         (None, 32)                0         \n",
      "_________________________________________________________________\n",
      "dense_95 (Dense)             (None, 16)                528       \n",
      "_________________________________________________________________\n",
      "dropout_61 (Dropout)         (None, 16)                0         \n",
      "_________________________________________________________________\n",
      "dense_96 (Dense)             (None, 3)                 51        \n",
      "=================================================================\n",
      "Total params: 366,179\n",
      "Trainable params: 366,179\n",
      "Non-trainable params: 0\n",
      "_________________________________________________________________\n"
     ]
    }
   ],
   "source": [
    "# reg = keras.regularizers.l2(0.001)\n",
    "tf.random.set_seed(0)\n",
    "\n",
    "model = keras.Sequential(\n",
    "    [\n",
    "        layers.Dense(32, activation='relu', input_shape=(X_train_vec.shape[1],)),\n",
    "        layers.Dropout(0.3, seed=1),\n",
    "        layers.Dense(16, activation='relu'),\n",
    "        layers.Dropout(0.3, seed=1),\n",
    "        \n",
    "        layers.Dense(3, activation='softmax'),\n",
    "    ])\n",
    "\n",
    "model.compile(optimizer='adam',\n",
    "              loss='categorical_crossentropy',\n",
    "              metrics=['accuracy'])\n",
    "\n",
    "model.summary()"
   ]
  },
  {
   "cell_type": "code",
   "execution_count": 126,
   "id": "d3585e42-3eac-4838-b5f3-2bc3e213a359",
   "metadata": {},
   "outputs": [
    {
     "name": "stdout",
     "output_type": "stream",
     "text": [
      "Epoch 1/10\n",
      "36/36 [==============================] - 1s 20ms/step - loss: 1.0010 - accuracy: 0.6388 - val_loss: 0.8809 - val_accuracy: 0.6501\n",
      "Epoch 2/10\n",
      "36/36 [==============================] - 0s 13ms/step - loss: 0.8347 - accuracy: 0.6532 - val_loss: 0.7772 - val_accuracy: 0.6501\n",
      "Epoch 3/10\n",
      "36/36 [==============================] - 0s 13ms/step - loss: 0.7379 - accuracy: 0.6815 - val_loss: 0.6887 - val_accuracy: 0.7232\n",
      "Epoch 4/10\n",
      "36/36 [==============================] - 0s 13ms/step - loss: 0.6480 - accuracy: 0.7422 - val_loss: 0.6285 - val_accuracy: 0.7489\n",
      "Epoch 5/10\n",
      "36/36 [==============================] - 0s 13ms/step - loss: 0.5791 - accuracy: 0.7729 - val_loss: 0.6012 - val_accuracy: 0.7574\n",
      "Epoch 6/10\n",
      "36/36 [==============================] - 1s 14ms/step - loss: 0.5246 - accuracy: 0.7921 - val_loss: 0.5927 - val_accuracy: 0.7607\n",
      "Epoch 7/10\n",
      "36/36 [==============================] - 0s 13ms/step - loss: 0.4823 - accuracy: 0.8129 - val_loss: 0.5865 - val_accuracy: 0.7672\n",
      "Epoch 8/10\n",
      "36/36 [==============================] - 0s 13ms/step - loss: 0.4465 - accuracy: 0.8347 - val_loss: 0.5901 - val_accuracy: 0.7701\n",
      "Epoch 9/10\n",
      "36/36 [==============================] - 0s 13ms/step - loss: 0.4121 - accuracy: 0.8502 - val_loss: 0.5974 - val_accuracy: 0.7701\n",
      "Epoch 10/10\n",
      "36/36 [==============================] - 0s 13ms/step - loss: 0.3840 - accuracy: 0.8627 - val_loss: 0.6100 - val_accuracy: 0.7667\n"
     ]
    }
   ],
   "source": [
    "X_train_post, X_dev_post, y_train_post, y_dev_post = train_test_split(\n",
    "                X_train_vec, y_train_dum, test_size=0.2, random_state=42)\n",
    "history = model.fit(\n",
    "    X_train_post, \n",
    "    y_train_post,\n",
    "    batch_size=512,\n",
    "    epochs=10,\n",
    "    validation_data=(X_dev_post, y_dev_post),\n",
    ")"
   ]
  },
  {
   "cell_type": "code",
   "execution_count": 96,
   "id": "ff380521-1e3f-46ac-86a3-05a82ada8ffc",
   "metadata": {},
   "outputs": [],
   "source": [
    "test = pd.read_csv('test.csv')\n",
    "X_test = test['Text']\n",
    "\n",
    "# X_test = lemmetize_all(X_test)\n",
    "X_test_vec = vectorizer.transform(X_test).toarray()\n",
    "X_test_vec = np.concatenate((X_test_vec, scaler.transform(add_sentence_length(X_test))), axis=1)"
   ]
  },
  {
   "cell_type": "code",
   "execution_count": 97,
   "id": "50e9c2a3-0a94-4db6-85c4-8070b1544029",
   "metadata": {},
   "outputs": [
    {
     "data": {
      "text/plain": [
       "array([[0.67754084, 0.25269717, 0.06976201],\n",
       "       [0.0311076 , 0.02417607, 0.94471633],\n",
       "       [0.61919266, 0.26887876, 0.1119286 ],\n",
       "       ...,\n",
       "       [0.99217176, 0.00557549, 0.00225268],\n",
       "       [0.658842  , 0.25753182, 0.08362612],\n",
       "       [0.97676635, 0.01514566, 0.00808804]], dtype=float32)"
      ]
     },
     "execution_count": 97,
     "metadata": {},
     "output_type": "execute_result"
    }
   ],
   "source": [
    "model.predict(X_test_vec)"
   ]
  },
  {
   "cell_type": "code",
   "execution_count": 98,
   "id": "aea92e39-4eaf-4b37-b12f-ef312494ed85",
   "metadata": {},
   "outputs": [],
   "source": [
    "y_pred = np.argmax(model.predict(X_test_vec), axis=1) - 1"
   ]
  },
  {
   "cell_type": "code",
   "execution_count": 93,
   "id": "67075b0e-3127-4a29-a9df-b6ee4b862a9d",
   "metadata": {},
   "outputs": [],
   "source": [
    "generate_result(test, y_pred, _STUDENT_NUM + \".csv\")"
   ]
  },
  {
   "cell_type": "code",
   "execution_count": null,
   "id": "c516df1a-848b-43f0-8eeb-011bd53b0426",
   "metadata": {},
   "outputs": [],
   "source": [
    "potential_words = ['if', 'could', 'might', 'may', 'can']"
   ]
  },
  {
   "cell_type": "code",
   "execution_count": null,
   "id": "9ee5e4c9-9080-418d-87c5-1e8a0c94cbe1",
   "metadata": {},
   "outputs": [],
   "source": []
  },
  {
   "cell_type": "code",
   "execution_count": 140,
   "id": "59640504-9d00-408d-ba4a-72bf20f9b615",
   "metadata": {},
   "outputs": [],
   "source": [
    "vectorizer = CountVectorizer()\n",
    "vectorized_texts = vectorizer.fit_transform(X_train)"
   ]
  },
  {
   "cell_type": "code",
   "execution_count": 141,
   "id": "c10cf90a-8cdb-4481-b638-527164cf55be",
   "metadata": {},
   "outputs": [
    {
     "data": {
      "text/plain": [
       "<22501x11424 sparse matrix of type '<class 'numpy.int64'>'\n",
       "\twith 335979 stored elements in Compressed Sparse Row format>"
      ]
     },
     "execution_count": 141,
     "metadata": {},
     "output_type": "execute_result"
    }
   ],
   "source": [
    "vectorized_texts"
   ]
  },
  {
   "cell_type": "code",
   "execution_count": 155,
   "id": "5ef8fab7-24d6-4c9f-96f8-b60ac3a5c471",
   "metadata": {},
   "outputs": [
    {
     "data": {
      "text/html": [
       "<style>#sk-container-id-5 {color: black;background-color: white;}#sk-container-id-5 pre{padding: 0;}#sk-container-id-5 div.sk-toggleable {background-color: white;}#sk-container-id-5 label.sk-toggleable__label {cursor: pointer;display: block;width: 100%;margin-bottom: 0;padding: 0.3em;box-sizing: border-box;text-align: center;}#sk-container-id-5 label.sk-toggleable__label-arrow:before {content: \"▸\";float: left;margin-right: 0.25em;color: #696969;}#sk-container-id-5 label.sk-toggleable__label-arrow:hover:before {color: black;}#sk-container-id-5 div.sk-estimator:hover label.sk-toggleable__label-arrow:before {color: black;}#sk-container-id-5 div.sk-toggleable__content {max-height: 0;max-width: 0;overflow: hidden;text-align: left;background-color: #f0f8ff;}#sk-container-id-5 div.sk-toggleable__content pre {margin: 0.2em;color: black;border-radius: 0.25em;background-color: #f0f8ff;}#sk-container-id-5 input.sk-toggleable__control:checked~div.sk-toggleable__content {max-height: 200px;max-width: 100%;overflow: auto;}#sk-container-id-5 input.sk-toggleable__control:checked~label.sk-toggleable__label-arrow:before {content: \"▾\";}#sk-container-id-5 div.sk-estimator input.sk-toggleable__control:checked~label.sk-toggleable__label {background-color: #d4ebff;}#sk-container-id-5 div.sk-label input.sk-toggleable__control:checked~label.sk-toggleable__label {background-color: #d4ebff;}#sk-container-id-5 input.sk-hidden--visually {border: 0;clip: rect(1px 1px 1px 1px);clip: rect(1px, 1px, 1px, 1px);height: 1px;margin: -1px;overflow: hidden;padding: 0;position: absolute;width: 1px;}#sk-container-id-5 div.sk-estimator {font-family: monospace;background-color: #f0f8ff;border: 1px dotted black;border-radius: 0.25em;box-sizing: border-box;margin-bottom: 0.5em;}#sk-container-id-5 div.sk-estimator:hover {background-color: #d4ebff;}#sk-container-id-5 div.sk-parallel-item::after {content: \"\";width: 100%;border-bottom: 1px solid gray;flex-grow: 1;}#sk-container-id-5 div.sk-label:hover label.sk-toggleable__label {background-color: #d4ebff;}#sk-container-id-5 div.sk-serial::before {content: \"\";position: absolute;border-left: 1px solid gray;box-sizing: border-box;top: 0;bottom: 0;left: 50%;z-index: 0;}#sk-container-id-5 div.sk-serial {display: flex;flex-direction: column;align-items: center;background-color: white;padding-right: 0.2em;padding-left: 0.2em;position: relative;}#sk-container-id-5 div.sk-item {position: relative;z-index: 1;}#sk-container-id-5 div.sk-parallel {display: flex;align-items: stretch;justify-content: center;background-color: white;position: relative;}#sk-container-id-5 div.sk-item::before, #sk-container-id-5 div.sk-parallel-item::before {content: \"\";position: absolute;border-left: 1px solid gray;box-sizing: border-box;top: 0;bottom: 0;left: 50%;z-index: -1;}#sk-container-id-5 div.sk-parallel-item {display: flex;flex-direction: column;z-index: 1;position: relative;background-color: white;}#sk-container-id-5 div.sk-parallel-item:first-child::after {align-self: flex-end;width: 50%;}#sk-container-id-5 div.sk-parallel-item:last-child::after {align-self: flex-start;width: 50%;}#sk-container-id-5 div.sk-parallel-item:only-child::after {width: 0;}#sk-container-id-5 div.sk-dashed-wrapped {border: 1px dashed gray;margin: 0 0.4em 0.5em 0.4em;box-sizing: border-box;padding-bottom: 0.4em;background-color: white;}#sk-container-id-5 div.sk-label label {font-family: monospace;font-weight: bold;display: inline-block;line-height: 1.2em;}#sk-container-id-5 div.sk-label-container {text-align: center;}#sk-container-id-5 div.sk-container {/* jupyter's `normalize.less` sets `[hidden] { display: none; }` but bootstrap.min.css set `[hidden] { display: none !important; }` so we also need the `!important` here to be able to override the default hidden behavior on the sphinx rendered scikit-learn.org. See: https://github.com/scikit-learn/scikit-learn/issues/21755 */display: inline-block !important;position: relative;}#sk-container-id-5 div.sk-text-repr-fallback {display: none;}</style><div id=\"sk-container-id-5\" class=\"sk-top-container\"><div class=\"sk-text-repr-fallback\"><pre>MultinomialNB()</pre><b>In a Jupyter environment, please rerun this cell to show the HTML representation or trust the notebook. <br />On GitHub, the HTML representation is unable to render, please try loading this page with nbviewer.org.</b></div><div class=\"sk-container\" hidden><div class=\"sk-item\"><div class=\"sk-estimator sk-toggleable\"><input class=\"sk-toggleable__control sk-hidden--visually\" id=\"sk-estimator-id-5\" type=\"checkbox\" checked><label for=\"sk-estimator-id-5\" class=\"sk-toggleable__label sk-toggleable__label-arrow\">MultinomialNB</label><div class=\"sk-toggleable__content\"><pre>MultinomialNB()</pre></div></div></div></div></div>"
      ],
      "text/plain": [
       "MultinomialNB()"
      ]
     },
     "execution_count": 155,
     "metadata": {},
     "output_type": "execute_result"
    }
   ],
   "source": [
    "classifier = MultinomialNB()\n",
    "classifier.fit(vectorized_texts, y_train)"
   ]
  },
  {
   "cell_type": "code",
   "execution_count": 156,
   "id": "170fde3c-d35b-4867-99a8-e615dba0a17b",
   "metadata": {},
   "outputs": [],
   "source": [
    "y_pred = classifier.predict(vectorized_texts)"
   ]
  },
  {
   "cell_type": "code",
   "execution_count": 157,
   "id": "da83ea2a-fd61-4834-bed7-2ea2a9f698b4",
   "metadata": {},
   "outputs": [],
   "source": [
    "score = f1_score(y_train, y_pred, average='macro')"
   ]
  },
  {
   "cell_type": "code",
   "execution_count": 158,
   "id": "662eb92a-bcde-44cc-a1c6-95fa7f594c07",
   "metadata": {},
   "outputs": [
    {
     "data": {
      "text/plain": [
       "0.7175508264672326"
      ]
     },
     "execution_count": 158,
     "metadata": {},
     "output_type": "execute_result"
    }
   ],
   "source": [
    "score"
   ]
  },
  {
   "cell_type": "code",
   "execution_count": 163,
   "id": "a85d1e89-a9cc-48b9-b3b9-847ecdbf86b8",
   "metadata": {},
   "outputs": [
    {
     "data": {
      "text/plain": [
       "{'neg': 0.195, 'neu': 0.805, 'pos': 0.0, 'compound': -0.4404}"
      ]
     },
     "execution_count": 163,
     "metadata": {},
     "output_type": "execute_result"
    }
   ],
   "source": [
    "sid = SentimentIntensityAnalyzer()\n",
    "sid.polarity_scores(X_train[1])"
   ]
  },
  {
   "cell_type": "code",
   "execution_count": 178,
   "id": "e46e6b60-64c6-42f3-a690-2e118e2d74d2",
   "metadata": {},
   "outputs": [],
   "source": [
    "class_polarity = collections.defaultdict(list)\n",
    "class_polarity[-1] = [0, 0, 0, 0]\n",
    "class_polarity[0] = [0, 0, 0, 0]\n",
    "class_polarity[1] = [0, 0, 0, 0]\n",
    "\n",
    "sid = SentimentIntensityAnalyzer()\n",
    "\n",
    "for i in range(len(X_train)):\n",
    "    ss = sid.polarity_scores(X_train[i])\n",
    "    class_polarity[y_train[i]][0] += ss['neg']\n",
    "    class_polarity[y_train[i]][1] += ss['neu']\n",
    "    class_polarity[y_train[i]][2] += ss['pos']\n",
    "    class_polarity[y_train[i]][3] += ss['compound']"
   ]
  },
  {
   "cell_type": "code",
   "execution_count": 197,
   "id": "2833935c-be81-42ab-85e3-ccb7fe626d1a",
   "metadata": {},
   "outputs": [
    {
     "data": {
      "text/plain": [
       "<AxesSubplot:>"
      ]
     },
     "execution_count": 197,
     "metadata": {},
     "output_type": "execute_result"
    },
    {
     "data": {
      "image/png": "[encoded data removed]",
      "text/plain": [
       "<Figure size 432x288 with 1 Axes>"
      ]
     },
     "metadata": {
      "needs_background": "light"
     },
     "output_type": "display_data"
    }
   ],
   "source": [
    "pd.DataFrame.from_dict(class_polarity, orient='index').div(y_train.value_counts(), axis=0).plot.bar()"
   ]
  },
  {
   "cell_type": "code",
   "execution_count": null,
   "id": "5cfb5997-737c-44ff-9070-c15d43fcc796",
   "metadata": {},
   "outputs": [],
   "source": []
  }
 ],
 "metadata": {
  "kernelspec": {
   "display_name": "Python 3.9 (tensorflow)",
   "language": "python",
   "name": "tensorflow"
  },
  "language_info": {
   "codemirror_mode": {
    "name": "ipython",
    "version": 3
   },
   "file_extension": ".py",
   "mimetype": "text/x-python",
   "name": "python",
   "nbconvert_exporter": "python",
   "pygments_lexer": "ipython3",
   "version": "3.9.12"
  }
 },
 "nbformat": 4,
 "nbformat_minor": 5
}
