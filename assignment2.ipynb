{
 "cells": [
  {
   "cell_type": "code",
   "execution_count": 1,
   "id": "9ca88594-46c7-4d2f-b09e-6e9f76958cbf",
   "metadata": {},
   "outputs": [],
   "source": [
    "import numpy as np\n",
    "import pandas as pd\n",
    "import collections\n",
    "import seaborn as sns\n",
    "import tensorflow as tf\n",
    "from tensorflow import keras\n",
    "from tensorflow.keras import layers\n",
    "\n",
    "import nltk\n",
    "from nltk.tokenize import word_tokenize\n",
    "from nltk.stem import WordNetLemmatizer\n",
    "from nltk.sentiment.vader import SentimentIntensityAnalyzer\n",
    "\n",
    "import spacy\n",
    "from spacy import displacy\n",
    "from collections import Counter\n",
    "\n",
    "from sklearn.naive_bayes import GaussianNB, MultinomialNB\n",
    "from sklearn.preprocessing import OneHotEncoder, MinMaxScaler\n",
    "from sklearn.linear_model import LogisticRegression\n",
    "from sklearn.model_selection import train_test_split\n",
    "from sklearn.feature_extraction.text import TfidfVectorizer, CountVectorizer\n",
    "from sklearn.metrics import f1_score, classification_report, confusion_matrix"
   ]
  },
  {
   "cell_type": "code",
   "execution_count": 2,
   "id": "ceb07e46-4d3e-4d85-87fe-fc10f85ad5c9",
   "metadata": {},
   "outputs": [],
   "source": [
    "# TODO: Replace with your Student Number\n",
    "_STUDENT_NUM = 'A0251445J'"
   ]
  },
  {
   "cell_type": "code",
   "execution_count": 3,
   "id": "bdcc1732-0032-4a8e-a951-c93043202f08",
   "metadata": {},
   "outputs": [],
   "source": [
    "def lemmetize_all(X):\n",
    "    \"\"\" TODO: preprocess data\"\"\"\n",
    "    X_lemmetize = []\n",
    "    wnl = WordNetLemmatizer()\n",
    "    for sentence in X:\n",
    "        tmp = []\n",
    "        for word, tag in nltk.pos_tag(word_tokenize(sentence)):\n",
    "            if tag.startswith('NN'):\n",
    "                tmp.append(wnl.lemmatize(word, pos='n'))\n",
    "            elif tag.startswith('VB'):\n",
    "                tmp.append(wnl.lemmatize(word, pos='v'))\n",
    "            elif tag.startswith('JJ'):\n",
    "                tmp.append(wnl.lemmatize(word, pos='a'))\n",
    "            elif tag.startswith('R'):\n",
    "                tmp.append(wnl.lemmatize(word, pos='r'))\n",
    "            else:\n",
    "                tmp.append(word)\n",
    "            \n",
    "        X_lemmetize.append(' '.join(tmp))\n",
    "        \n",
    "    return X_lemmetize"
   ]
  },
  {
   "cell_type": "code",
   "execution_count": 4,
   "id": "52a3961d-ec53-41ca-81aa-5189ae4d0a43",
   "metadata": {},
   "outputs": [],
   "source": [
    "def add_sentence_length(X):\n",
    "    return np.array([len(sentence.split()) for sentence in X]).reshape((-1, 1))"
   ]
  },
  {
   "cell_type": "code",
   "execution_count": 5,
   "id": "a85d1e89-a9cc-48b9-b3b9-847ecdbf86b8",
   "metadata": {},
   "outputs": [],
   "source": [
    "def add_polarity(X):\n",
    "    sid = SentimentIntensityAnalyzer()\n",
    "    polarity = []\n",
    "    for sentence in X:\n",
    "        ss = sid.polarity_scores(sentence)\n",
    "        polarity.append(list(ss.values()))\n",
    "    \n",
    "    return np.array(polarity)"
   ]
  },
  {
   "cell_type": "code",
   "execution_count": 6,
   "id": "5cfb5997-737c-44ff-9070-c15d43fcc796",
   "metadata": {},
   "outputs": [],
   "source": [
    "def add_num_count(X):\n",
    "    num_count = []\n",
    "    for sentence in X:\n",
    "        count = 0\n",
    "        for _, tag in nltk.pos_tag(nltk.word_tokenize(sentence)):\n",
    "            if tag == 'CD':\n",
    "                count += 1\n",
    "        num_count.append(count)\n",
    "\n",
    "    return np.array(num_count).reshape(-1, 1)"
   ]
  },
  {
   "cell_type": "code",
   "execution_count": 18,
   "id": "d3de3384",
   "metadata": {},
   "outputs": [],
   "source": [
    "def extract_named_entities_by_types(X_train, X_test):\n",
    "    count = []\n",
    "    nlp = spacy.load('en_core_web_sm')\n",
    "    for sentence in X_train:\n",
    "        labels = [x.label_ for x in nlp(sentence).ents]\n",
    "        count.append(Counter(labels))\n",
    "    for sentence in X_test:\n",
    "        labels = [x.label_ for x in nlp(sentence).ents]\n",
    "        count.append(Counter(labels))\n",
    "\n",
    "    return pd.DataFrame(count).fillna(0)"
   ]
  },
  {
   "cell_type": "code",
   "execution_count": null,
   "id": "8fe24fe0-b25c-4e4c-a369-cb9fbfcc41d8",
   "metadata": {},
   "outputs": [],
   "source": [
    "def train_model(model, X_train, y_train, method = 'nn', need_dev = 'False'):\n",
    "    \"\"\" TODO: train your model based on the training data \"\"\"\n",
    "        \n",
    "    if method == 'nn':\n",
    "        model.compile(optimizer='adam',\n",
    "                  loss='categorical_crossentropy',\n",
    "                  metrics=['accuracy'])\n",
    "        \n",
    "        if need_dev == 'True':\n",
    "            X_train_post, X_dev_post, y_train_post, y_dev_post = train_test_split(\n",
    "                X_train, y_train, test_size=0.2, random_state=42)\n",
    "            history = model.fit(\n",
    "                X_train_post, \n",
    "                y_train_post,\n",
    "                batch_size=512,\n",
    "                epochs=15,\n",
    "                validation_data=(X_dev_post, y_dev_post),\n",
    "            )\n",
    "        else:\n",
    "            history = model.fit(\n",
    "                X_train, \n",
    "                y_train,\n",
    "                batch_size=512,\n",
    "                epochs=15,\n",
    "            )\n",
    "    \n",
    "    return"
   ]
  },
  {
   "cell_type": "code",
   "execution_count": 8,
   "id": "cd4766b3-92b9-4db8-85de-294613757409",
   "metadata": {},
   "outputs": [],
   "source": [
    "def predict(model, X_test, method = 'nn'):\n",
    "    \"\"\" TODO: make your prediction here \"\"\"\n",
    "    if method == 'nn':\n",
    "        y_pred = np.argmax(model.predict(X_test), axis=1) - 1\n",
    "    return y_pred"
   ]
  },
  {
   "cell_type": "code",
   "execution_count": 9,
   "id": "6ab714e9-8796-4644-9c29-24c53645da65",
   "metadata": {},
   "outputs": [],
   "source": [
    "def generate_result(test, y_pred, filename):\n",
    "    \"\"\" generate csv file base on the y_pred \"\"\"\n",
    "    test['Verdict'] = pd.Series(y_pred)\n",
    "    test.drop(columns=['Text'], inplace=True)\n",
    "    test.to_csv(filename, index=False)"
   ]
  },
  {
   "cell_type": "code",
   "execution_count": null,
   "id": "e8bf993c-be7a-425a-958e-2efb0c7ed479",
   "metadata": {},
   "outputs": [],
   "source": [
    "def main():\n",
    "    \"\"\" load train, val, and test data \"\"\"\n",
    "    train = pd.read_csv('train.csv')\n",
    "    X_train = train['Text']\n",
    "    y_train = train['Verdict']\n",
    "    \n",
    "    test = pd.read_csv('test.csv')\n",
    "    X_test = test['Text']\n",
    "    # preprocessing\n",
    "    \n",
    "    \n",
    "    model = None  # TODO: Define your model here\n",
    "    \n",
    "    model = keras.Sequential(\n",
    "    [\n",
    "        layers.Dense(32, activation='relu', input_shape=(X_train_vec.shape[1],)),\n",
    "        layers.Dropout(0.3),\n",
    "        layers.Dense(16, activation='relu'),\n",
    "        layers.Dropout(0.3),\n",
    "        layers.Dense(3, activation='softmax'),\n",
    "    ])\n",
    "\n",
    "    # model.summary()\n",
    "    \n",
    "    train_model(model, X_train, y_train)\n",
    "    \n",
    "#     # test your model\n",
    "#     y_pred = predict(model, X_train)\n",
    "\n",
    "    # Use f1-macro as the metric\n",
    "    score = f1_score(y_train, y_pred, average='macro')\n",
    "    print('score on validation = {}'.format(score))\n",
    "\n",
    "    # generate prediction on test data\n",
    "    y_pred = predict(model, X_test)\n",
    "    \n",
    "#     generate_result(test, y_pred, _STUDENT_NUM + \".csv\")"
   ]
  },
  {
   "cell_type": "code",
   "execution_count": null,
   "id": "2e24267b-fff6-4ea1-847b-4554b49ce49d",
   "metadata": {},
   "outputs": [],
   "source": [
    "# Allow the main class to be invoked if run as a file.\n",
    "if __name__ == \"__main__\":\n",
    "    main()\n"
   ]
  },
  {
   "cell_type": "code",
   "execution_count": 41,
   "id": "93e267b3-a5ac-4250-ac0e-29dccf08281b",
   "metadata": {},
   "outputs": [],
   "source": [
    "train = pd.read_csv('train.csv')\n",
    "X_train = train['Text']\n",
    "y_train = train['Verdict']\n",
    "\n",
    "test = pd.read_csv('test.csv')\n",
    "X_test = test['Text']"
   ]
  },
  {
   "cell_type": "code",
   "execution_count": 12,
   "id": "b8292729-e3de-4195-921a-d6fbfa65360a",
   "metadata": {},
   "outputs": [],
   "source": [
    "# X_train = lemmetize_all(X_train)"
   ]
  },
  {
   "cell_type": "code",
   "execution_count": 79,
   "id": "75df46f1-078d-487e-9f1a-6e9210ca599a",
   "metadata": {},
   "outputs": [],
   "source": [
    "vectorizer = TfidfVectorizer(max_features=500).fit(X_train)\n",
    "X_train_vec = vectorizer.transform(X_train).toarray()\n",
    "\n",
    "y_train_dum = pd.get_dummies(y_train)"
   ]
  },
  {
   "cell_type": "code",
   "execution_count": 80,
   "id": "11cb62ef",
   "metadata": {},
   "outputs": [
    {
     "data": {
      "text/plain": [
       "(22501, 500)"
      ]
     },
     "execution_count": 80,
     "metadata": {},
     "output_type": "execute_result"
    }
   ],
   "source": [
    "X_train_vec.shape"
   ]
  },
  {
   "cell_type": "code",
   "execution_count": 81,
   "id": "8e6ef3f2-3453-4e9d-9575-6f0e537271f5",
   "metadata": {},
   "outputs": [],
   "source": [
    "# Additional features\n",
    "scaler = MinMaxScaler()\n",
    "X_train_vec = np.concatenate((X_train_vec, scaler.fit_transform(add_sentence_length(X_train))), axis=1)"
   ]
  },
  {
   "cell_type": "code",
   "execution_count": 82,
   "id": "c4ce434e",
   "metadata": {},
   "outputs": [],
   "source": [
    "polarity = add_polarity(X_train)\n",
    "X_train_vec = np.concatenate((X_train_vec, polarity), axis=1)"
   ]
  },
  {
   "cell_type": "code",
   "execution_count": 83,
   "id": "8f2caa46",
   "metadata": {},
   "outputs": [],
   "source": [
    "num_count = add_num_count(X_train)\n",
    "X_train_vec = np.concatenate((X_train_vec, num_count), axis=1)"
   ]
  },
  {
   "cell_type": "code",
   "execution_count": 19,
   "id": "7c74e682",
   "metadata": {},
   "outputs": [],
   "source": [
    "data = extract_named_entities_by_types(X_train, X_test)"
   ]
  },
  {
   "cell_type": "code",
   "execution_count": 22,
   "id": "55842b3e",
   "metadata": {},
   "outputs": [
    {
     "data": {
      "text/html": [
       "<div>\n",
       "<style scoped>\n",
       "    .dataframe tbody tr th:only-of-type {\n",
       "        vertical-align: middle;\n",
       "    }\n",
       "\n",
       "    .dataframe tbody tr th {\n",
       "        vertical-align: top;\n",
       "    }\n",
       "\n",
       "    .dataframe thead th {\n",
       "        text-align: right;\n",
       "    }\n",
       "</style>\n",
       "<table border=\"1\" class=\"dataframe\">\n",
       "  <thead>\n",
       "    <tr style=\"text-align: right;\">\n",
       "      <th></th>\n",
       "      <th>PERSON</th>\n",
       "      <th>NORP</th>\n",
       "      <th>GPE</th>\n",
       "      <th>ORG</th>\n",
       "      <th>DATE</th>\n",
       "      <th>FAC</th>\n",
       "      <th>CARDINAL</th>\n",
       "      <th>PERCENT</th>\n",
       "      <th>ORDINAL</th>\n",
       "      <th>MONEY</th>\n",
       "      <th>TIME</th>\n",
       "      <th>LOC</th>\n",
       "      <th>WORK_OF_ART</th>\n",
       "      <th>LAW</th>\n",
       "      <th>EVENT</th>\n",
       "      <th>PRODUCT</th>\n",
       "      <th>QUANTITY</th>\n",
       "      <th>LANGUAGE</th>\n",
       "    </tr>\n",
       "  </thead>\n",
       "  <tbody>\n",
       "    <tr>\n",
       "      <th>0</th>\n",
       "      <td>0.0</td>\n",
       "      <td>0.0</td>\n",
       "      <td>0.0</td>\n",
       "      <td>0.0</td>\n",
       "      <td>0.0</td>\n",
       "      <td>0.0</td>\n",
       "      <td>0.0</td>\n",
       "      <td>0.0</td>\n",
       "      <td>0.0</td>\n",
       "      <td>0.0</td>\n",
       "      <td>0.0</td>\n",
       "      <td>0.0</td>\n",
       "      <td>0.0</td>\n",
       "      <td>0.0</td>\n",
       "      <td>0.0</td>\n",
       "      <td>0.0</td>\n",
       "      <td>0.0</td>\n",
       "      <td>0.0</td>\n",
       "    </tr>\n",
       "    <tr>\n",
       "      <th>1</th>\n",
       "      <td>0.0</td>\n",
       "      <td>0.0</td>\n",
       "      <td>0.0</td>\n",
       "      <td>0.0</td>\n",
       "      <td>0.0</td>\n",
       "      <td>0.0</td>\n",
       "      <td>0.0</td>\n",
       "      <td>0.0</td>\n",
       "      <td>0.0</td>\n",
       "      <td>0.0</td>\n",
       "      <td>0.0</td>\n",
       "      <td>0.0</td>\n",
       "      <td>0.0</td>\n",
       "      <td>0.0</td>\n",
       "      <td>0.0</td>\n",
       "      <td>0.0</td>\n",
       "      <td>0.0</td>\n",
       "      <td>0.0</td>\n",
       "    </tr>\n",
       "    <tr>\n",
       "      <th>2</th>\n",
       "      <td>1.0</td>\n",
       "      <td>0.0</td>\n",
       "      <td>0.0</td>\n",
       "      <td>0.0</td>\n",
       "      <td>0.0</td>\n",
       "      <td>0.0</td>\n",
       "      <td>0.0</td>\n",
       "      <td>0.0</td>\n",
       "      <td>0.0</td>\n",
       "      <td>0.0</td>\n",
       "      <td>0.0</td>\n",
       "      <td>0.0</td>\n",
       "      <td>0.0</td>\n",
       "      <td>0.0</td>\n",
       "      <td>0.0</td>\n",
       "      <td>0.0</td>\n",
       "      <td>0.0</td>\n",
       "      <td>0.0</td>\n",
       "    </tr>\n",
       "    <tr>\n",
       "      <th>3</th>\n",
       "      <td>0.0</td>\n",
       "      <td>0.0</td>\n",
       "      <td>0.0</td>\n",
       "      <td>0.0</td>\n",
       "      <td>0.0</td>\n",
       "      <td>0.0</td>\n",
       "      <td>0.0</td>\n",
       "      <td>0.0</td>\n",
       "      <td>0.0</td>\n",
       "      <td>0.0</td>\n",
       "      <td>0.0</td>\n",
       "      <td>0.0</td>\n",
       "      <td>0.0</td>\n",
       "      <td>0.0</td>\n",
       "      <td>0.0</td>\n",
       "      <td>0.0</td>\n",
       "      <td>0.0</td>\n",
       "      <td>0.0</td>\n",
       "    </tr>\n",
       "    <tr>\n",
       "      <th>4</th>\n",
       "      <td>0.0</td>\n",
       "      <td>0.0</td>\n",
       "      <td>0.0</td>\n",
       "      <td>0.0</td>\n",
       "      <td>0.0</td>\n",
       "      <td>0.0</td>\n",
       "      <td>0.0</td>\n",
       "      <td>0.0</td>\n",
       "      <td>0.0</td>\n",
       "      <td>0.0</td>\n",
       "      <td>0.0</td>\n",
       "      <td>0.0</td>\n",
       "      <td>0.0</td>\n",
       "      <td>0.0</td>\n",
       "      <td>0.0</td>\n",
       "      <td>0.0</td>\n",
       "      <td>0.0</td>\n",
       "      <td>0.0</td>\n",
       "    </tr>\n",
       "    <tr>\n",
       "      <th>...</th>\n",
       "      <td>...</td>\n",
       "      <td>...</td>\n",
       "      <td>...</td>\n",
       "      <td>...</td>\n",
       "      <td>...</td>\n",
       "      <td>...</td>\n",
       "      <td>...</td>\n",
       "      <td>...</td>\n",
       "      <td>...</td>\n",
       "      <td>...</td>\n",
       "      <td>...</td>\n",
       "      <td>...</td>\n",
       "      <td>...</td>\n",
       "      <td>...</td>\n",
       "      <td>...</td>\n",
       "      <td>...</td>\n",
       "      <td>...</td>\n",
       "      <td>...</td>\n",
       "    </tr>\n",
       "    <tr>\n",
       "      <th>22496</th>\n",
       "      <td>0.0</td>\n",
       "      <td>0.0</td>\n",
       "      <td>0.0</td>\n",
       "      <td>0.0</td>\n",
       "      <td>0.0</td>\n",
       "      <td>0.0</td>\n",
       "      <td>0.0</td>\n",
       "      <td>0.0</td>\n",
       "      <td>0.0</td>\n",
       "      <td>0.0</td>\n",
       "      <td>0.0</td>\n",
       "      <td>0.0</td>\n",
       "      <td>0.0</td>\n",
       "      <td>0.0</td>\n",
       "      <td>0.0</td>\n",
       "      <td>0.0</td>\n",
       "      <td>0.0</td>\n",
       "      <td>0.0</td>\n",
       "    </tr>\n",
       "    <tr>\n",
       "      <th>22497</th>\n",
       "      <td>0.0</td>\n",
       "      <td>1.0</td>\n",
       "      <td>0.0</td>\n",
       "      <td>1.0</td>\n",
       "      <td>0.0</td>\n",
       "      <td>0.0</td>\n",
       "      <td>1.0</td>\n",
       "      <td>0.0</td>\n",
       "      <td>0.0</td>\n",
       "      <td>0.0</td>\n",
       "      <td>0.0</td>\n",
       "      <td>0.0</td>\n",
       "      <td>0.0</td>\n",
       "      <td>0.0</td>\n",
       "      <td>0.0</td>\n",
       "      <td>0.0</td>\n",
       "      <td>0.0</td>\n",
       "      <td>0.0</td>\n",
       "    </tr>\n",
       "    <tr>\n",
       "      <th>22498</th>\n",
       "      <td>0.0</td>\n",
       "      <td>1.0</td>\n",
       "      <td>0.0</td>\n",
       "      <td>1.0</td>\n",
       "      <td>1.0</td>\n",
       "      <td>0.0</td>\n",
       "      <td>0.0</td>\n",
       "      <td>0.0</td>\n",
       "      <td>0.0</td>\n",
       "      <td>0.0</td>\n",
       "      <td>0.0</td>\n",
       "      <td>0.0</td>\n",
       "      <td>0.0</td>\n",
       "      <td>0.0</td>\n",
       "      <td>0.0</td>\n",
       "      <td>0.0</td>\n",
       "      <td>0.0</td>\n",
       "      <td>0.0</td>\n",
       "    </tr>\n",
       "    <tr>\n",
       "      <th>22499</th>\n",
       "      <td>0.0</td>\n",
       "      <td>0.0</td>\n",
       "      <td>2.0</td>\n",
       "      <td>0.0</td>\n",
       "      <td>0.0</td>\n",
       "      <td>0.0</td>\n",
       "      <td>0.0</td>\n",
       "      <td>0.0</td>\n",
       "      <td>0.0</td>\n",
       "      <td>0.0</td>\n",
       "      <td>0.0</td>\n",
       "      <td>0.0</td>\n",
       "      <td>0.0</td>\n",
       "      <td>0.0</td>\n",
       "      <td>0.0</td>\n",
       "      <td>0.0</td>\n",
       "      <td>0.0</td>\n",
       "      <td>0.0</td>\n",
       "    </tr>\n",
       "    <tr>\n",
       "      <th>22500</th>\n",
       "      <td>0.0</td>\n",
       "      <td>0.0</td>\n",
       "      <td>1.0</td>\n",
       "      <td>0.0</td>\n",
       "      <td>1.0</td>\n",
       "      <td>0.0</td>\n",
       "      <td>0.0</td>\n",
       "      <td>0.0</td>\n",
       "      <td>0.0</td>\n",
       "      <td>0.0</td>\n",
       "      <td>0.0</td>\n",
       "      <td>0.0</td>\n",
       "      <td>0.0</td>\n",
       "      <td>0.0</td>\n",
       "      <td>0.0</td>\n",
       "      <td>0.0</td>\n",
       "      <td>0.0</td>\n",
       "      <td>0.0</td>\n",
       "    </tr>\n",
       "  </tbody>\n",
       "</table>\n",
       "<p>22501 rows × 18 columns</p>\n",
       "</div>"
      ],
      "text/plain": [
       "       PERSON  NORP  GPE  ORG  DATE  FAC  CARDINAL  PERCENT  ORDINAL  MONEY  \\\n",
       "0         0.0   0.0  0.0  0.0   0.0  0.0       0.0      0.0      0.0    0.0   \n",
       "1         0.0   0.0  0.0  0.0   0.0  0.0       0.0      0.0      0.0    0.0   \n",
       "2         1.0   0.0  0.0  0.0   0.0  0.0       0.0      0.0      0.0    0.0   \n",
       "3         0.0   0.0  0.0  0.0   0.0  0.0       0.0      0.0      0.0    0.0   \n",
       "4         0.0   0.0  0.0  0.0   0.0  0.0       0.0      0.0      0.0    0.0   \n",
       "...       ...   ...  ...  ...   ...  ...       ...      ...      ...    ...   \n",
       "22496     0.0   0.0  0.0  0.0   0.0  0.0       0.0      0.0      0.0    0.0   \n",
       "22497     0.0   1.0  0.0  1.0   0.0  0.0       1.0      0.0      0.0    0.0   \n",
       "22498     0.0   1.0  0.0  1.0   1.0  0.0       0.0      0.0      0.0    0.0   \n",
       "22499     0.0   0.0  2.0  0.0   0.0  0.0       0.0      0.0      0.0    0.0   \n",
       "22500     0.0   0.0  1.0  0.0   1.0  0.0       0.0      0.0      0.0    0.0   \n",
       "\n",
       "       TIME  LOC  WORK_OF_ART  LAW  EVENT  PRODUCT  QUANTITY  LANGUAGE  \n",
       "0       0.0  0.0          0.0  0.0    0.0      0.0       0.0       0.0  \n",
       "1       0.0  0.0          0.0  0.0    0.0      0.0       0.0       0.0  \n",
       "2       0.0  0.0          0.0  0.0    0.0      0.0       0.0       0.0  \n",
       "3       0.0  0.0          0.0  0.0    0.0      0.0       0.0       0.0  \n",
       "4       0.0  0.0          0.0  0.0    0.0      0.0       0.0       0.0  \n",
       "...     ...  ...          ...  ...    ...      ...       ...       ...  \n",
       "22496   0.0  0.0          0.0  0.0    0.0      0.0       0.0       0.0  \n",
       "22497   0.0  0.0          0.0  0.0    0.0      0.0       0.0       0.0  \n",
       "22498   0.0  0.0          0.0  0.0    0.0      0.0       0.0       0.0  \n",
       "22499   0.0  0.0          0.0  0.0    0.0      0.0       0.0       0.0  \n",
       "22500   0.0  0.0          0.0  0.0    0.0      0.0       0.0       0.0  \n",
       "\n",
       "[22501 rows x 18 columns]"
      ]
     },
     "execution_count": 22,
     "metadata": {},
     "output_type": "execute_result"
    }
   ],
   "source": [
    "data[:len(X_train_vec)]"
   ]
  },
  {
   "cell_type": "code",
   "execution_count": 84,
   "id": "f501bee5",
   "metadata": {},
   "outputs": [],
   "source": [
    "X_train_vec = np.concatenate((X_train_vec, data[:len(X_train_vec)]), axis=1)"
   ]
  },
  {
   "cell_type": "code",
   "execution_count": 86,
   "id": "92a1d3a3",
   "metadata": {},
   "outputs": [
    {
     "data": {
      "text/plain": [
       "(22501, 524)"
      ]
     },
     "execution_count": 86,
     "metadata": {},
     "output_type": "execute_result"
    }
   ],
   "source": [
    "X_train_vec.shape"
   ]
  },
  {
   "cell_type": "code",
   "execution_count": 87,
   "id": "c42de79c-7785-40f8-bd73-beecfeb241fa",
   "metadata": {},
   "outputs": [
    {
     "name": "stdout",
     "output_type": "stream",
     "text": [
      "Model: \"sequential_18\"\n",
      "_________________________________________________________________\n",
      " Layer (type)                Output Shape              Param #   \n",
      "=================================================================\n",
      " dense_63 (Dense)            (None, 32)                16800     \n",
      "                                                                 \n",
      " dense_64 (Dense)            (None, 16)                528       \n",
      "                                                                 \n",
      " dense_65 (Dense)            (None, 6)                 102       \n",
      "                                                                 \n",
      " dense_66 (Dense)            (None, 3)                 21        \n",
      "                                                                 \n",
      "=================================================================\n",
      "Total params: 17,451\n",
      "Trainable params: 17,451\n",
      "Non-trainable params: 0\n",
      "_________________________________________________________________\n"
     ]
    }
   ],
   "source": [
    "reg = keras.regularizers.l2(0.001)\n",
    "tf.random.set_seed(0)\n",
    "\n",
    "model = keras.Sequential(\n",
    "    [\n",
    "        layers.Dense(32, activation='relu', input_shape=(X_train_vec.shape[1],), kernel_regularizer=reg),\n",
    "        # layers.Dropout(0.3),\n",
    "        layers.Dense(16, activation='relu', kernel_regularizer=reg),\n",
    "        layers.Dense(6, activation='sigmoid', kernel_regularizer=reg),\n",
    "        # layers.Dropout(0.3, seed=1),\n",
    "        layers.Dense(3, activation='softmax'),\n",
    "    ])\n",
    "\n",
    "model.compile(optimizer='adam',\n",
    "              loss='categorical_crossentropy',\n",
    "              metrics=['accuracy'])\n",
    "\n",
    "model.summary()"
   ]
  },
  {
   "cell_type": "code",
   "execution_count": 88,
   "id": "d3585e42-3eac-4838-b5f3-2bc3e213a359",
   "metadata": {},
   "outputs": [
    {
     "name": "stdout",
     "output_type": "stream",
     "text": [
      "Epoch 1/50\n",
      "40/40 [==============================] - 1s 7ms/step - loss: 1.4508 - accuracy: 0.1063 - val_loss: 1.3283 - val_accuracy: 0.1111\n",
      "Epoch 2/50\n",
      "40/40 [==============================] - 0s 4ms/step - loss: 1.2234 - accuracy: 0.1214 - val_loss: 1.1119 - val_accuracy: 0.2821\n",
      "Epoch 3/50\n",
      "40/40 [==============================] - 0s 4ms/step - loss: 1.0337 - accuracy: 0.6413 - val_loss: 0.9773 - val_accuracy: 0.6801\n",
      "Epoch 4/50\n",
      "40/40 [==============================] - 0s 4ms/step - loss: 0.9334 - accuracy: 0.7048 - val_loss: 0.9109 - val_accuracy: 0.7015\n",
      "Epoch 5/50\n",
      "40/40 [==============================] - 0s 4ms/step - loss: 0.8802 - accuracy: 0.7146 - val_loss: 0.8721 - val_accuracy: 0.7037\n",
      "Epoch 6/50\n",
      "40/40 [==============================] - 0s 3ms/step - loss: 0.8476 - accuracy: 0.7186 - val_loss: 0.8456 - val_accuracy: 0.7095\n",
      "Epoch 7/50\n",
      "40/40 [==============================] - 0s 4ms/step - loss: 0.8246 - accuracy: 0.7230 - val_loss: 0.8270 - val_accuracy: 0.7148\n",
      "Epoch 8/50\n",
      "40/40 [==============================] - 0s 4ms/step - loss: 0.8067 - accuracy: 0.7252 - val_loss: 0.8121 - val_accuracy: 0.7148\n",
      "Epoch 9/50\n",
      "40/40 [==============================] - 0s 4ms/step - loss: 0.7916 - accuracy: 0.7276 - val_loss: 0.8000 - val_accuracy: 0.7179\n",
      "Epoch 10/50\n",
      "40/40 [==============================] - 0s 4ms/step - loss: 0.7786 - accuracy: 0.7310 - val_loss: 0.7893 - val_accuracy: 0.7215\n",
      "Epoch 11/50\n",
      "40/40 [==============================] - 0s 3ms/step - loss: 0.7665 - accuracy: 0.7344 - val_loss: 0.7804 - val_accuracy: 0.7246\n",
      "Epoch 12/50\n",
      "40/40 [==============================] - 0s 3ms/step - loss: 0.7557 - accuracy: 0.7372 - val_loss: 0.7718 - val_accuracy: 0.7246\n",
      "Epoch 13/50\n",
      "40/40 [==============================] - 0s 4ms/step - loss: 0.7469 - accuracy: 0.7387 - val_loss: 0.7661 - val_accuracy: 0.7250\n",
      "Epoch 14/50\n",
      "40/40 [==============================] - 0s 3ms/step - loss: 0.7397 - accuracy: 0.7419 - val_loss: 0.7603 - val_accuracy: 0.7295\n",
      "Epoch 15/50\n",
      "40/40 [==============================] - 0s 3ms/step - loss: 0.7325 - accuracy: 0.7424 - val_loss: 0.7570 - val_accuracy: 0.7295\n",
      "Epoch 16/50\n",
      "40/40 [==============================] - 0s 3ms/step - loss: 0.7285 - accuracy: 0.7429 - val_loss: 0.7534 - val_accuracy: 0.7308\n",
      "Epoch 17/50\n",
      "40/40 [==============================] - 0s 3ms/step - loss: 0.7235 - accuracy: 0.7445 - val_loss: 0.7503 - val_accuracy: 0.7299\n",
      "Epoch 18/50\n",
      "40/40 [==============================] - 0s 3ms/step - loss: 0.7189 - accuracy: 0.7448 - val_loss: 0.7474 - val_accuracy: 0.7237\n",
      "Epoch 19/50\n",
      "40/40 [==============================] - 0s 3ms/step - loss: 0.7161 - accuracy: 0.7438 - val_loss: 0.7437 - val_accuracy: 0.7259\n",
      "Epoch 20/50\n",
      "40/40 [==============================] - 0s 3ms/step - loss: 0.7130 - accuracy: 0.7443 - val_loss: 0.7408 - val_accuracy: 0.7295\n",
      "Epoch 21/50\n",
      "40/40 [==============================] - 0s 3ms/step - loss: 0.7099 - accuracy: 0.7447 - val_loss: 0.7412 - val_accuracy: 0.7295\n",
      "Epoch 22/50\n",
      "40/40 [==============================] - 0s 3ms/step - loss: 0.7074 - accuracy: 0.7470 - val_loss: 0.7375 - val_accuracy: 0.7241\n",
      "Epoch 23/50\n",
      "40/40 [==============================] - 0s 3ms/step - loss: 0.7054 - accuracy: 0.7469 - val_loss: 0.7363 - val_accuracy: 0.7268\n",
      "Epoch 24/50\n",
      "40/40 [==============================] - 0s 3ms/step - loss: 0.7034 - accuracy: 0.7463 - val_loss: 0.7356 - val_accuracy: 0.7241\n",
      "Epoch 25/50\n",
      "40/40 [==============================] - 0s 3ms/step - loss: 0.7020 - accuracy: 0.7454 - val_loss: 0.7336 - val_accuracy: 0.7263\n",
      "Epoch 26/50\n",
      "40/40 [==============================] - 0s 3ms/step - loss: 0.7004 - accuracy: 0.7467 - val_loss: 0.7327 - val_accuracy: 0.7295\n",
      "Epoch 27/50\n",
      "40/40 [==============================] - 0s 3ms/step - loss: 0.6985 - accuracy: 0.7475 - val_loss: 0.7327 - val_accuracy: 0.7303\n",
      "Epoch 28/50\n",
      "40/40 [==============================] - 0s 3ms/step - loss: 0.6968 - accuracy: 0.7468 - val_loss: 0.7315 - val_accuracy: 0.7237\n",
      "Epoch 29/50\n",
      "40/40 [==============================] - 0s 3ms/step - loss: 0.6966 - accuracy: 0.7464 - val_loss: 0.7311 - val_accuracy: 0.7295\n",
      "Epoch 30/50\n",
      "40/40 [==============================] - 0s 3ms/step - loss: 0.6944 - accuracy: 0.7469 - val_loss: 0.7279 - val_accuracy: 0.7290\n",
      "Epoch 31/50\n",
      "40/40 [==============================] - 0s 3ms/step - loss: 0.6934 - accuracy: 0.7457 - val_loss: 0.7275 - val_accuracy: 0.7263\n",
      "Epoch 32/50\n",
      "40/40 [==============================] - 0s 3ms/step - loss: 0.6918 - accuracy: 0.7471 - val_loss: 0.7262 - val_accuracy: 0.7277\n",
      "Epoch 33/50\n",
      "40/40 [==============================] - 0s 3ms/step - loss: 0.6911 - accuracy: 0.7478 - val_loss: 0.7270 - val_accuracy: 0.7281\n",
      "Epoch 34/50\n",
      "40/40 [==============================] - 0s 3ms/step - loss: 0.6904 - accuracy: 0.7480 - val_loss: 0.7243 - val_accuracy: 0.7277\n",
      "Epoch 35/50\n",
      "40/40 [==============================] - 0s 3ms/step - loss: 0.6897 - accuracy: 0.7462 - val_loss: 0.7257 - val_accuracy: 0.7290\n",
      "Epoch 36/50\n",
      "40/40 [==============================] - 0s 3ms/step - loss: 0.6893 - accuracy: 0.7463 - val_loss: 0.7245 - val_accuracy: 0.7281\n",
      "Epoch 37/50\n",
      "40/40 [==============================] - 0s 3ms/step - loss: 0.6871 - accuracy: 0.7472 - val_loss: 0.7241 - val_accuracy: 0.7303\n",
      "Epoch 38/50\n",
      "40/40 [==============================] - 0s 3ms/step - loss: 0.6871 - accuracy: 0.7473 - val_loss: 0.7239 - val_accuracy: 0.7268\n",
      "Epoch 39/50\n",
      "40/40 [==============================] - 0s 3ms/step - loss: 0.6863 - accuracy: 0.7463 - val_loss: 0.7254 - val_accuracy: 0.7303\n",
      "Epoch 40/50\n",
      "40/40 [==============================] - 0s 3ms/step - loss: 0.6849 - accuracy: 0.7480 - val_loss: 0.7231 - val_accuracy: 0.7272\n",
      "Epoch 41/50\n",
      "40/40 [==============================] - 0s 3ms/step - loss: 0.6838 - accuracy: 0.7477 - val_loss: 0.7248 - val_accuracy: 0.7299\n",
      "Epoch 42/50\n",
      "40/40 [==============================] - 0s 3ms/step - loss: 0.6832 - accuracy: 0.7483 - val_loss: 0.7211 - val_accuracy: 0.7259\n",
      "Epoch 43/50\n",
      "40/40 [==============================] - 0s 3ms/step - loss: 0.6829 - accuracy: 0.7497 - val_loss: 0.7243 - val_accuracy: 0.7281\n",
      "Epoch 44/50\n",
      "40/40 [==============================] - 0s 3ms/step - loss: 0.6820 - accuracy: 0.7475 - val_loss: 0.7227 - val_accuracy: 0.7295\n",
      "Epoch 45/50\n",
      "40/40 [==============================] - 0s 3ms/step - loss: 0.6831 - accuracy: 0.7466 - val_loss: 0.7192 - val_accuracy: 0.7228\n",
      "Epoch 46/50\n",
      "40/40 [==============================] - 0s 3ms/step - loss: 0.6819 - accuracy: 0.7476 - val_loss: 0.7193 - val_accuracy: 0.7303\n",
      "Epoch 47/50\n",
      "40/40 [==============================] - 0s 3ms/step - loss: 0.6806 - accuracy: 0.7482 - val_loss: 0.7192 - val_accuracy: 0.7295\n",
      "Epoch 48/50\n",
      "40/40 [==============================] - 0s 3ms/step - loss: 0.6797 - accuracy: 0.7482 - val_loss: 0.7185 - val_accuracy: 0.7277\n",
      "Epoch 49/50\n",
      "40/40 [==============================] - 0s 3ms/step - loss: 0.6790 - accuracy: 0.7490 - val_loss: 0.7179 - val_accuracy: 0.7317\n",
      "Epoch 50/50\n",
      "40/40 [==============================] - 0s 3ms/step - loss: 0.6785 - accuracy: 0.7482 - val_loss: 0.7188 - val_accuracy: 0.7312\n"
     ]
    }
   ],
   "source": [
    "X_train_post, X_dev_post, y_train_post, y_dev_post = train_test_split(\n",
    "                X_train_vec, y_train_dum, test_size=0.1, random_state=42)\n",
    "history = model.fit(\n",
    "    X_train_post, \n",
    "    y_train_post,\n",
    "    batch_size=512,\n",
    "    epochs=50,\n",
    "    validation_data=(X_dev_post, y_dev_post),\n",
    ")"
   ]
  },
  {
   "cell_type": "code",
   "execution_count": 40,
   "id": "20b92140",
   "metadata": {},
   "outputs": [
    {
     "name": "stdout",
     "output_type": "stream",
     "text": [
      "Epoch 1/25\n",
      "44/44 [==============================] - 1s 12ms/step - loss: 0.9813 - accuracy: 0.6817\n",
      "Epoch 2/25\n",
      "44/44 [==============================] - 0s 10ms/step - loss: 0.7264 - accuracy: 0.7359\n",
      "Epoch 3/25\n",
      "44/44 [==============================] - 0s 9ms/step - loss: 0.6523 - accuracy: 0.7617\n",
      "Epoch 4/25\n",
      "44/44 [==============================] - 0s 8ms/step - loss: 0.6169 - accuracy: 0.7759\n",
      "Epoch 5/25\n",
      "44/44 [==============================] - 0s 9ms/step - loss: 0.5950 - accuracy: 0.7875\n",
      "Epoch 6/25\n",
      "44/44 [==============================] - 0s 8ms/step - loss: 0.5798 - accuracy: 0.7966\n",
      "Epoch 7/25\n",
      "44/44 [==============================] - 0s 9ms/step - loss: 0.5665 - accuracy: 0.8036\n",
      "Epoch 8/25\n",
      "44/44 [==============================] - 0s 9ms/step - loss: 0.5566 - accuracy: 0.8118\n",
      "Epoch 9/25\n",
      "44/44 [==============================] - 0s 9ms/step - loss: 0.5500 - accuracy: 0.8143\n",
      "Epoch 10/25\n",
      "44/44 [==============================] - 0s 9ms/step - loss: 0.5414 - accuracy: 0.8193\n",
      "Epoch 11/25\n",
      "44/44 [==============================] - 0s 9ms/step - loss: 0.5344 - accuracy: 0.8231\n",
      "Epoch 12/25\n",
      "44/44 [==============================] - 0s 8ms/step - loss: 0.5288 - accuracy: 0.8261\n",
      "Epoch 13/25\n",
      "44/44 [==============================] - 0s 9ms/step - loss: 0.5248 - accuracy: 0.8286\n",
      "Epoch 14/25\n",
      "44/44 [==============================] - 0s 11ms/step - loss: 0.5187 - accuracy: 0.8318\n",
      "Epoch 15/25\n",
      "44/44 [==============================] - 1s 12ms/step - loss: 0.5138 - accuracy: 0.8356\n",
      "Epoch 16/25\n",
      "44/44 [==============================] - 0s 11ms/step - loss: 0.5086 - accuracy: 0.8379\n",
      "Epoch 17/25\n",
      "44/44 [==============================] - 0s 9ms/step - loss: 0.5069 - accuracy: 0.8381\n",
      "Epoch 18/25\n",
      "44/44 [==============================] - 0s 9ms/step - loss: 0.5036 - accuracy: 0.8409\n",
      "Epoch 19/25\n",
      "44/44 [==============================] - 0s 8ms/step - loss: 0.4982 - accuracy: 0.8428\n",
      "Epoch 20/25\n",
      "44/44 [==============================] - 0s 8ms/step - loss: 0.4943 - accuracy: 0.8483\n",
      "Epoch 21/25\n",
      "44/44 [==============================] - 0s 9ms/step - loss: 0.4887 - accuracy: 0.8502\n",
      "Epoch 22/25\n",
      "44/44 [==============================] - 0s 9ms/step - loss: 0.4870 - accuracy: 0.8497\n",
      "Epoch 23/25\n",
      "44/44 [==============================] - 0s 9ms/step - loss: 0.4837 - accuracy: 0.8529\n",
      "Epoch 24/25\n",
      "44/44 [==============================] - 0s 9ms/step - loss: 0.4789 - accuracy: 0.8544\n",
      "Epoch 25/25\n",
      "44/44 [==============================] - 0s 8ms/step - loss: 0.4763 - accuracy: 0.8569\n"
     ]
    }
   ],
   "source": [
    "history = model.fit(\n",
    "    X_train_vec, \n",
    "    y_train_dum,\n",
    "    batch_size=512,\n",
    "    epochs=25,\n",
    ")"
   ]
  },
  {
   "cell_type": "code",
   "execution_count": 27,
   "id": "ff380521-1e3f-46ac-86a3-05a82ada8ffc",
   "metadata": {},
   "outputs": [],
   "source": [
    "\n",
    "# X_test = lemmetize_all(X_test)\n",
    "X_test_vec = vectorizer.transform(X_test).toarray()\n",
    "X_test_vec = np.concatenate((X_test_vec, scaler.transform(add_sentence_length(X_test))), axis=1)\n",
    "\n",
    "polarity = add_polarity(X_test)\n",
    "X_test_vec = np.concatenate((X_test_vec, polarity), axis=1)\n",
    "\n",
    "num_count = add_num_count(X_test)\n",
    "X_test_vec = np.concatenate((X_test_vec, num_count), axis=1)\n",
    "\n",
    "X_test_vec = np.concatenate((X_test_vec, data[len(X_train_vec):]), axis=1)"
   ]
  },
  {
   "cell_type": "code",
   "execution_count": 42,
   "id": "50e9c2a3-0a94-4db6-85c4-8070b1544029",
   "metadata": {},
   "outputs": [
    {
     "name": "stdout",
     "output_type": "stream",
     "text": [
      "33/33 [==============================] - 0s 863us/step\n"
     ]
    },
    {
     "data": {
      "text/plain": [
       "array([[0.49636358, 0.48105693, 0.02257948],\n",
       "       [0.02577839, 0.00897695, 0.96524465],\n",
       "       [0.69203895, 0.11476183, 0.19319928],\n",
       "       ...,\n",
       "       [0.99529403, 0.00355991, 0.00114604],\n",
       "       [0.73742473, 0.14536324, 0.11721209],\n",
       "       [0.9526122 , 0.02674699, 0.0206408 ]], dtype=float32)"
      ]
     },
     "execution_count": 42,
     "metadata": {},
     "output_type": "execute_result"
    }
   ],
   "source": [
    "model.predict(X_test_vec)"
   ]
  },
  {
   "cell_type": "code",
   "execution_count": 43,
   "id": "aea92e39-4eaf-4b37-b12f-ef312494ed85",
   "metadata": {},
   "outputs": [
    {
     "name": "stdout",
     "output_type": "stream",
     "text": [
      "33/33 [==============================] - 0s 676us/step\n"
     ]
    }
   ],
   "source": [
    "y_pred = np.argmax(model.predict(X_test_vec), axis=1) - 1"
   ]
  },
  {
   "cell_type": "code",
   "execution_count": 44,
   "id": "67075b0e-3127-4a29-a9df-b6ee4b862a9d",
   "metadata": {},
   "outputs": [],
   "source": [
    "generate_result(test, y_pred, _STUDENT_NUM + \".csv\")"
   ]
  },
  {
   "cell_type": "code",
   "execution_count": 223,
   "id": "5c4d57a6",
   "metadata": {},
   "outputs": [
    {
     "name": "stdout",
     "output_type": "stream",
     "text": [
      "704/704 [==============================] - 1s 826us/step\n"
     ]
    }
   ],
   "source": [
    "# y_pred = model.predict(X_train_vec)\n",
    "y_pred = np.argmax(model.predict(X_train_vec), axis=1) - 1"
   ]
  },
  {
   "cell_type": "code",
   "execution_count": 224,
   "id": "9654ceeb",
   "metadata": {},
   "outputs": [
    {
     "name": "stdout",
     "output_type": "stream",
     "text": [
      "              precision    recall  f1-score   support\n",
      "\n",
      "          -1       0.88      0.95      0.91     14685\n",
      "           0       0.77      0.48      0.59      2403\n",
      "           1       0.81      0.78      0.80      5413\n",
      "\n",
      "    accuracy                           0.86     22501\n",
      "   macro avg       0.82      0.74      0.77     22501\n",
      "weighted avg       0.85      0.86      0.85     22501\n",
      "\n"
     ]
    }
   ],
   "source": [
    "print(classification_report(y_train, y_pred))"
   ]
  },
  {
   "cell_type": "code",
   "execution_count": 130,
   "id": "c516df1a-848b-43f0-8eeb-011bd53b0426",
   "metadata": {},
   "outputs": [
    {
     "data": {
      "text/plain": [
       "<Axes: >"
      ]
     },
     "execution_count": 130,
     "metadata": {},
     "output_type": "execute_result"
    },
    {
     "data": {
      "image/png": "[encoded data removed]",
      "text/plain": [
       "<Figure size 640x480 with 2 Axes>"
      ]
     },
     "metadata": {},
     "output_type": "display_data"
    }
   ],
   "source": [
    "sns.heatmap(confusion_matrix(y_train, y_pred), annot=True)"
   ]
  },
  {
   "cell_type": "code",
   "execution_count": 131,
   "id": "9ee5e4c9-9080-418d-87c5-1e8a0c94cbe1",
   "metadata": {},
   "outputs": [
    {
     "data": {
      "text/plain": [
       "array([[13910,   140,   635],\n",
       "       [  856,  1091,   456],\n",
       "       [  893,    85,  4435]], dtype=int64)"
      ]
     },
     "execution_count": 131,
     "metadata": {},
     "output_type": "execute_result"
    }
   ],
   "source": [
    "confusion_matrix(y_train, y_pred)"
   ]
  },
  {
   "cell_type": "code",
   "execution_count": null,
   "id": "59640504-9d00-408d-ba4a-72bf20f9b615",
   "metadata": {},
   "outputs": [],
   "source": [
    "vectorizer = CountVectorizer()\n",
    "vectorized_texts = vectorizer.fit_transform(X_train)"
   ]
  },
  {
   "cell_type": "code",
   "execution_count": null,
   "id": "c10cf90a-8cdb-4481-b638-527164cf55be",
   "metadata": {},
   "outputs": [
    {
     "data": {
      "text/plain": [
       "<22501x11424 sparse matrix of type '<class 'numpy.int64'>'\n",
       "\twith 335979 stored elements in Compressed Sparse Row format>"
      ]
     },
     "execution_count": 49,
     "metadata": {},
     "output_type": "execute_result"
    }
   ],
   "source": [
    "vectorized_texts"
   ]
  },
  {
   "cell_type": "code",
   "execution_count": null,
   "id": "5ef8fab7-24d6-4c9f-96f8-b60ac3a5c471",
   "metadata": {},
   "outputs": [
    {
     "data": {
      "text/html": [
       "<style>#sk-container-id-1 {color: black;background-color: white;}#sk-container-id-1 pre{padding: 0;}#sk-container-id-1 div.sk-toggleable {background-color: white;}#sk-container-id-1 label.sk-toggleable__label {cursor: pointer;display: block;width: 100%;margin-bottom: 0;padding: 0.3em;box-sizing: border-box;text-align: center;}#sk-container-id-1 label.sk-toggleable__label-arrow:before {content: \"▸\";float: left;margin-right: 0.25em;color: #696969;}#sk-container-id-1 label.sk-toggleable__label-arrow:hover:before {color: black;}#sk-container-id-1 div.sk-estimator:hover label.sk-toggleable__label-arrow:before {color: black;}#sk-container-id-1 div.sk-toggleable__content {max-height: 0;max-width: 0;overflow: hidden;text-align: left;background-color: #f0f8ff;}#sk-container-id-1 div.sk-toggleable__content pre {margin: 0.2em;color: black;border-radius: 0.25em;background-color: #f0f8ff;}#sk-container-id-1 input.sk-toggleable__control:checked~div.sk-toggleable__content {max-height: 200px;max-width: 100%;overflow: auto;}#sk-container-id-1 input.sk-toggleable__control:checked~label.sk-toggleable__label-arrow:before {content: \"▾\";}#sk-container-id-1 div.sk-estimator input.sk-toggleable__control:checked~label.sk-toggleable__label {background-color: #d4ebff;}#sk-container-id-1 div.sk-label input.sk-toggleable__control:checked~label.sk-toggleable__label {background-color: #d4ebff;}#sk-container-id-1 input.sk-hidden--visually {border: 0;clip: rect(1px 1px 1px 1px);clip: rect(1px, 1px, 1px, 1px);height: 1px;margin: -1px;overflow: hidden;padding: 0;position: absolute;width: 1px;}#sk-container-id-1 div.sk-estimator {font-family: monospace;background-color: #f0f8ff;border: 1px dotted black;border-radius: 0.25em;box-sizing: border-box;margin-bottom: 0.5em;}#sk-container-id-1 div.sk-estimator:hover {background-color: #d4ebff;}#sk-container-id-1 div.sk-parallel-item::after {content: \"\";width: 100%;border-bottom: 1px solid gray;flex-grow: 1;}#sk-container-id-1 div.sk-label:hover label.sk-toggleable__label {background-color: #d4ebff;}#sk-container-id-1 div.sk-serial::before {content: \"\";position: absolute;border-left: 1px solid gray;box-sizing: border-box;top: 0;bottom: 0;left: 50%;z-index: 0;}#sk-container-id-1 div.sk-serial {display: flex;flex-direction: column;align-items: center;background-color: white;padding-right: 0.2em;padding-left: 0.2em;position: relative;}#sk-container-id-1 div.sk-item {position: relative;z-index: 1;}#sk-container-id-1 div.sk-parallel {display: flex;align-items: stretch;justify-content: center;background-color: white;position: relative;}#sk-container-id-1 div.sk-item::before, #sk-container-id-1 div.sk-parallel-item::before {content: \"\";position: absolute;border-left: 1px solid gray;box-sizing: border-box;top: 0;bottom: 0;left: 50%;z-index: -1;}#sk-container-id-1 div.sk-parallel-item {display: flex;flex-direction: column;z-index: 1;position: relative;background-color: white;}#sk-container-id-1 div.sk-parallel-item:first-child::after {align-self: flex-end;width: 50%;}#sk-container-id-1 div.sk-parallel-item:last-child::after {align-self: flex-start;width: 50%;}#sk-container-id-1 div.sk-parallel-item:only-child::after {width: 0;}#sk-container-id-1 div.sk-dashed-wrapped {border: 1px dashed gray;margin: 0 0.4em 0.5em 0.4em;box-sizing: border-box;padding-bottom: 0.4em;background-color: white;}#sk-container-id-1 div.sk-label label {font-family: monospace;font-weight: bold;display: inline-block;line-height: 1.2em;}#sk-container-id-1 div.sk-label-container {text-align: center;}#sk-container-id-1 div.sk-container {/* jupyter's `normalize.less` sets `[hidden] { display: none; }` but bootstrap.min.css set `[hidden] { display: none !important; }` so we also need the `!important` here to be able to override the default hidden behavior on the sphinx rendered scikit-learn.org. See: https://github.com/scikit-learn/scikit-learn/issues/21755 */display: inline-block !important;position: relative;}#sk-container-id-1 div.sk-text-repr-fallback {display: none;}</style><div id=\"sk-container-id-1\" class=\"sk-top-container\"><div class=\"sk-text-repr-fallback\"><pre>MultinomialNB()</pre><b>In a Jupyter environment, please rerun this cell to show the HTML representation or trust the notebook. <br />On GitHub, the HTML representation is unable to render, please try loading this page with nbviewer.org.</b></div><div class=\"sk-container\" hidden><div class=\"sk-item\"><div class=\"sk-estimator sk-toggleable\"><input class=\"sk-toggleable__control sk-hidden--visually\" id=\"sk-estimator-id-1\" type=\"checkbox\" checked><label for=\"sk-estimator-id-1\" class=\"sk-toggleable__label sk-toggleable__label-arrow\">MultinomialNB</label><div class=\"sk-toggleable__content\"><pre>MultinomialNB()</pre></div></div></div></div></div>"
      ],
      "text/plain": [
       "MultinomialNB()"
      ]
     },
     "execution_count": 50,
     "metadata": {},
     "output_type": "execute_result"
    }
   ],
   "source": [
    "classifier = MultinomialNB()\n",
    "classifier.fit(vectorized_texts, y_train)"
   ]
  },
  {
   "cell_type": "code",
   "execution_count": null,
   "id": "170fde3c-d35b-4867-99a8-e615dba0a17b",
   "metadata": {},
   "outputs": [],
   "source": [
    "y_pred = classifier.predict(vectorized_texts)"
   ]
  },
  {
   "cell_type": "code",
   "execution_count": null,
   "id": "da83ea2a-fd61-4834-bed7-2ea2a9f698b4",
   "metadata": {},
   "outputs": [],
   "source": [
    "score = f1_score(y_train, y_pred, average='macro')"
   ]
  },
  {
   "cell_type": "code",
   "execution_count": null,
   "id": "662eb92a-bcde-44cc-a1c6-95fa7f594c07",
   "metadata": {},
   "outputs": [
    {
     "data": {
      "text/plain": [
       "0.7175508264672326"
      ]
     },
     "execution_count": 53,
     "metadata": {},
     "output_type": "execute_result"
    }
   ],
   "source": [
    "score"
   ]
  },
  {
   "cell_type": "code",
   "execution_count": null,
   "id": "5ab67664",
   "metadata": {},
   "outputs": [],
   "source": [
    "y_pred = classifier.predict(vectorizer.transform(X_test))"
   ]
  },
  {
   "cell_type": "code",
   "execution_count": null,
   "id": "9c0b16f3",
   "metadata": {},
   "outputs": [],
   "source": [
    "\n"
   ]
  },
  {
   "cell_type": "code",
   "execution_count": null,
   "id": "8cf2e274",
   "metadata": {},
   "outputs": [],
   "source": []
  },
  {
   "cell_type": "code",
   "execution_count": 178,
   "id": "e46e6b60-64c6-42f3-a690-2e118e2d74d2",
   "metadata": {},
   "outputs": [],
   "source": [
    "class_polarity = collections.defaultdict(list)\n",
    "class_polarity[-1] = [0, 0, 0, 0]\n",
    "class_polarity[0] = [0, 0, 0, 0]\n",
    "class_polarity[1] = [0, 0, 0, 0]\n",
    "\n",
    "sid = SentimentIntensityAnalyzer()\n",
    "\n",
    "for i in range(len(X_train)):\n",
    "    ss = sid.polarity_scores(X_train[i])\n",
    "    class_polarity[y_train[i]][0] += ss['neg']\n",
    "    class_polarity[y_train[i]][1] += ss['neu']\n",
    "    class_polarity[y_train[i]][2] += ss['pos']\n",
    "    class_polarity[y_train[i]][3] += ss['compound']"
   ]
  },
  {
   "cell_type": "code",
   "execution_count": 197,
   "id": "2833935c-be81-42ab-85e3-ccb7fe626d1a",
   "metadata": {},
   "outputs": [
    {
     "data": {
      "text/plain": [
       "<AxesSubplot:>"
      ]
     },
     "execution_count": 197,
     "metadata": {},
     "output_type": "execute_result"
    },
    {
     "data": {
      "image/png": "[encoded data removed]",
      "text/plain": [
       "<Figure size 432x288 with 1 Axes>"
      ]
     },
     "metadata": {
      "needs_background": "light"
     },
     "output_type": "display_data"
    }
   ],
   "source": [
    "pd.DataFrame.from_dict(class_polarity, orient='index').div(y_train.value_counts(), axis=0).plot.bar()"
   ]
  },
  {
   "cell_type": "code",
   "execution_count": 136,
   "id": "12dfc256",
   "metadata": {},
   "outputs": [
    {
     "data": {
      "text/plain": [
       "[('Storwerqw', 'NN')]"
      ]
     },
     "execution_count": 136,
     "metadata": {},
     "output_type": "execute_result"
    }
   ],
   "source": [
    "nltk.pos_tag(nltk.word_tokenize(\"Storwerqw\"))"
   ]
  },
  {
   "cell_type": "code",
   "execution_count": 104,
   "id": "155276a5",
   "metadata": {},
   "outputs": [],
   "source": [
    "lr_clf = LogisticRegression(multi_class='multinomial', solver='lbfgs', max_iter=1000)"
   ]
  },
  {
   "cell_type": "code",
   "execution_count": 105,
   "id": "8f3abff3",
   "metadata": {},
   "outputs": [
    {
     "data": {
      "text/plain": [
       "(22501, 5006)"
      ]
     },
     "execution_count": 105,
     "metadata": {},
     "output_type": "execute_result"
    }
   ],
   "source": [
    "X_train_vec.shape"
   ]
  },
  {
   "cell_type": "code",
   "execution_count": null,
   "id": "c2752433",
   "metadata": {},
   "outputs": [],
   "source": [
    "lr_clf.fit(X_train_vec, y_train)"
   ]
  },
  {
   "cell_type": "code",
   "execution_count": 107,
   "id": "8ea40edc",
   "metadata": {},
   "outputs": [],
   "source": [
    "y_pred = lr_clf.predict(X_train_vec)"
   ]
  },
  {
   "cell_type": "code",
   "execution_count": 113,
   "id": "96f240e4",
   "metadata": {},
   "outputs": [
    {
     "data": {
      "text/plain": [
       "0.7048283674184939"
      ]
     },
     "execution_count": 113,
     "metadata": {},
     "output_type": "execute_result"
    }
   ],
   "source": [
    "f1_score(y_train, y_pred, average='macro')"
   ]
  },
  {
   "cell_type": "code",
   "execution_count": 177,
   "id": "63acd673",
   "metadata": {},
   "outputs": [
    {
     "name": "stdout",
     "output_type": "stream",
     "text": [
      "<class 'pandas.core.frame.DataFrame'>\n",
      "RangeIndex: 22501 entries, 0 to 22500\n",
      "Data columns (total 18 columns):\n",
      " #   Column       Non-Null Count  Dtype  \n",
      "---  ------       --------------  -----  \n",
      " 0   PERSON       22501 non-null  float64\n",
      " 1   NORP         22501 non-null  float64\n",
      " 2   GPE          22501 non-null  float64\n",
      " 3   ORG          22501 non-null  float64\n",
      " 4   DATE         22501 non-null  float64\n",
      " 5   FAC          22501 non-null  float64\n",
      " 6   CARDINAL     22501 non-null  float64\n",
      " 7   PERCENT      22501 non-null  float64\n",
      " 8   ORDINAL      22501 non-null  float64\n",
      " 9   MONEY        22501 non-null  float64\n",
      " 10  TIME         22501 non-null  float64\n",
      " 11  LOC          22501 non-null  float64\n",
      " 12  WORK_OF_ART  22501 non-null  float64\n",
      " 13  LAW          22501 non-null  float64\n",
      " 14  EVENT        22501 non-null  float64\n",
      " 15  PRODUCT      22501 non-null  float64\n",
      " 16  QUANTITY     22501 non-null  float64\n",
      " 17  LANGUAGE     22501 non-null  float64\n",
      "dtypes: float64(18)\n",
      "memory usage: 3.1 MB\n"
     ]
    }
   ],
   "source": [
    "data.fillna(0)"
   ]
  },
  {
   "cell_type": "code",
   "execution_count": 165,
   "id": "4175784d",
   "metadata": {},
   "outputs": [],
   "source": [
    "doc = nlp('European authorities fined Jackson Mike a record $5.1 billion on Wednesday for abusing its power in the mobile phone market and ordered the company to alter its practices 14 people. Please call Tom here')\n",
    "labels = [x.label_ for x in doc.ents]\n",
    "list1.append(Counter(labels))"
   ]
  },
  {
   "cell_type": "code",
   "execution_count": 166,
   "id": "f4953fe1",
   "metadata": {},
   "outputs": [
    {
     "name": "stdout",
     "output_type": "stream",
     "text": [
      "[('European', 'NORP'), ('Jackson Mike', 'ORG'), ('a record $5.1 billion', 'MONEY'), ('Wednesday', 'DATE'), ('14', 'CARDINAL'), ('Tom', 'PERSON')]\n"
     ]
    }
   ],
   "source": [
    "print([(X.text, X.label_) for X in doc.ents])"
   ]
  },
  {
   "cell_type": "code",
   "execution_count": 168,
   "id": "b410b6c6",
   "metadata": {},
   "outputs": [
    {
     "data": {
      "text/html": [
       "<div>\n",
       "<style scoped>\n",
       "    .dataframe tbody tr th:only-of-type {\n",
       "        vertical-align: middle;\n",
       "    }\n",
       "\n",
       "    .dataframe tbody tr th {\n",
       "        vertical-align: top;\n",
       "    }\n",
       "\n",
       "    .dataframe thead th {\n",
       "        text-align: right;\n",
       "    }\n",
       "</style>\n",
       "<table border=\"1\" class=\"dataframe\">\n",
       "  <thead>\n",
       "    <tr style=\"text-align: right;\">\n",
       "      <th></th>\n",
       "      <th>NORP</th>\n",
       "      <th>ORG</th>\n",
       "      <th>MONEY</th>\n",
       "      <th>DATE</th>\n",
       "      <th>CARDINAL</th>\n",
       "      <th>PERSON</th>\n",
       "    </tr>\n",
       "  </thead>\n",
       "  <tbody>\n",
       "    <tr>\n",
       "      <th>0</th>\n",
       "      <td>1</td>\n",
       "      <td>1</td>\n",
       "      <td>1</td>\n",
       "      <td>1</td>\n",
       "      <td>1</td>\n",
       "      <td>NaN</td>\n",
       "    </tr>\n",
       "    <tr>\n",
       "      <th>1</th>\n",
       "      <td>1</td>\n",
       "      <td>1</td>\n",
       "      <td>1</td>\n",
       "      <td>1</td>\n",
       "      <td>1</td>\n",
       "      <td>NaN</td>\n",
       "    </tr>\n",
       "    <tr>\n",
       "      <th>2</th>\n",
       "      <td>1</td>\n",
       "      <td>1</td>\n",
       "      <td>1</td>\n",
       "      <td>1</td>\n",
       "      <td>1</td>\n",
       "      <td>NaN</td>\n",
       "    </tr>\n",
       "    <tr>\n",
       "      <th>3</th>\n",
       "      <td>1</td>\n",
       "      <td>1</td>\n",
       "      <td>1</td>\n",
       "      <td>1</td>\n",
       "      <td>1</td>\n",
       "      <td>NaN</td>\n",
       "    </tr>\n",
       "    <tr>\n",
       "      <th>4</th>\n",
       "      <td>1</td>\n",
       "      <td>1</td>\n",
       "      <td>1</td>\n",
       "      <td>1</td>\n",
       "      <td>1</td>\n",
       "      <td>NaN</td>\n",
       "    </tr>\n",
       "    <tr>\n",
       "      <th>5</th>\n",
       "      <td>1</td>\n",
       "      <td>1</td>\n",
       "      <td>1</td>\n",
       "      <td>1</td>\n",
       "      <td>1</td>\n",
       "      <td>1.0</td>\n",
       "    </tr>\n",
       "  </tbody>\n",
       "</table>\n",
       "</div>"
      ],
      "text/plain": [
       "   NORP  ORG  MONEY  DATE  CARDINAL  PERSON\n",
       "0     1    1      1     1         1     NaN\n",
       "1     1    1      1     1         1     NaN\n",
       "2     1    1      1     1         1     NaN\n",
       "3     1    1      1     1         1     NaN\n",
       "4     1    1      1     1         1     NaN\n",
       "5     1    1      1     1         1     1.0"
      ]
     },
     "execution_count": 168,
     "metadata": {},
     "output_type": "execute_result"
    }
   ],
   "source": [
    "\n"
   ]
  },
  {
   "cell_type": "code",
   "execution_count": null,
   "id": "e14a9103",
   "metadata": {},
   "outputs": [],
   "source": []
  }
 ],
 "metadata": {
  "kernelspec": {
   "display_name": "tensorflow",
   "language": "python",
   "name": "python3"
  },
  "language_info": {
   "codemirror_mode": {
    "name": "ipython",
    "version": 3
   },
   "file_extension": ".py",
   "mimetype": "text/x-python",
   "name": "python",
   "nbconvert_exporter": "python",
   "pygments_lexer": "ipython3",
   "version": "3.9.16"
  },
  "vscode": {
   "interpreter": {
    "hash": "f1e31f704b02f36dd9211742a29ae85dddc2da720b4ac32804e8ae51264cf558"
   }
  }
 },
 "nbformat": 4,
 "nbformat_minor": 5
}
